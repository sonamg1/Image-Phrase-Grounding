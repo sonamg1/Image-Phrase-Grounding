{
 "cells": [
  {
   "cell_type": "markdown",
   "metadata": {},
   "source": [
    "# Description VQA"
   ]
  },
  {
   "cell_type": "code",
   "execution_count": null,
   "metadata": {
    "collapsed": true
   },
   "outputs": [],
   "source": [
    " '''\n",
    " OUR MODEL\n",
    "Input: VQA2, Train: mscoco2014 train, Validation mscoco2014 val ,Test mscoco2015 test\n",
    "https://visualqa.org/download.html\n",
    "Trainval images: 123287(82,783 + 40,504)Trianval questions: 658111\n",
    "Test images: 81434 Test questions:  447793 Test-dev images: 36807\n",
    "Unique answers is 3133\n",
    "\n",
    "Paper: 204,721 images from Microsoft COCO dataset,(443,757 train, 214,354 val, and 447,793 test questions)\n",
    "DIFFERENCE :n_ans = 3133, only answers which appear more than 8 times in val+train dataset\n",
    "Github : https://github.com/cvlab-tohoku/Dense-CoAttention-Network/blob/master/dense_coattn/cost/costs.py\n",
    " '''\n",
    "    \n",
    "'''\n",
    "this model use PNASNet for visual feature selection and use dense layer to select the \n",
    "'''\n",
    "    "
   ]
  },
  {
   "cell_type": "code",
   "execution_count": 1,
   "metadata": {},
   "outputs": [
    {
     "name": "stderr",
     "output_type": "stream",
     "text": [
      "/home/sonam/anaconda3/lib/python3.6/site-packages/h5py/__init__.py:34: FutureWarning: Conversion of the second argument of issubdtype from `float` to `np.floating` is deprecated. In future, it will be treated as `np.float64 == np.dtype(float).type`.\n",
      "  from ._conv import register_converters as _register_converters\n"
     ]
    },
    {
     "name": "stdout",
     "output_type": "stream",
     "text": [
      "import done\n"
     ]
    }
   ],
   "source": [
    "import tensorflow as tf\n",
    "import os\n",
    "import sys\n",
    "import cv2\n",
    "import numpy as np\n",
    "import tensorflow.contrib.slim as slim\n",
    "import tensorflow_hub as hub\n",
    "from utils import *\n",
    "os.environ[\"CUDA_DEVICE_ORDER\"] = \"PCI_BUS_ID\"\n",
    "os.environ[\"CUDA_VISIBLE_DEVICES\"] = \"0\"\n",
    "gpu_options = tf.GPUOptions(allow_growth=True)\n",
    "config = tf.ConfigProto(gpu_options=gpu_options,log_device_placement=True, allow_soft_placement=True)\n",
    "import lmdb\n",
    "%matplotlib inline\n",
    "import matplotlib.pyplot as plt\n",
    "import random\n",
    "import pickle\n",
    "#from bert_embedding import BertEmbedding\n",
    "\n",
    "os.environ[\"TFHUB_CACHE_DIR\"] = \"/home/sonam/tfhub_modules\"\n",
    "# Jupyter caches the utils module, so changes there aren't reflected in a re-import. We delete the utils module from\n",
    "# sys.modules first so that we force-reload all the code in utils.py\n",
    "\n",
    "if 'utils' in sys.modules:\n",
    "    del sys.modules['utils']\n",
    "from utils import *\n",
    "print('import done')\n"
   ]
  },
  {
   "cell_type": "code",
   "execution_count": 2,
   "metadata": {},
   "outputs": [
    {
     "name": "stdout",
     "output_type": "stream",
     "text": [
      "1\n"
     ]
    }
   ],
   "source": [
    "print(tf.contrib.eager.num_gpus())"
   ]
  },
  {
   "cell_type": "code",
   "execution_count": 3,
   "metadata": {},
   "outputs": [
    {
     "name": "stdout",
     "output_type": "stream",
     "text": [
      "Requirement already satisfied: bert-tensorflow in /home/sonam/anaconda3/lib/python3.6/site-packages (1.0.1)\n",
      "Requirement already satisfied: six in /home/sonam/anaconda3/lib/python3.6/site-packages (from bert-tensorflow) (1.10.0)\n",
      "\u001b[33mYou are using pip version 19.0.2, however version 19.0.3 is available.\n",
      "You should consider upgrading via the 'pip install --upgrade pip' command.\u001b[0m\n"
     ]
    }
   ],
   "source": [
    "!pip install bert-tensorflow"
   ]
  },
  {
   "cell_type": "code",
   "execution_count": 4,
   "metadata": {
    "collapsed": true
   },
   "outputs": [],
   "source": [
    "import bert\n",
    "from bert import run_classifier\n",
    "from bert import optimization\n",
    "from bert import tokenization"
   ]
  },
  {
   "cell_type": "markdown",
   "metadata": {},
   "source": [
    "# Loading Data"
   ]
  },
  {
   "cell_type": "code",
   "execution_count": 5,
   "metadata": {
    "collapsed": true
   },
   "outputs": [],
   "source": [
    "base_path = '/dvmm-filer2/datasets/Groundings/data/'\n",
    "data_path = base_path + 'mscoco/'\n",
    "lmdb_path = data_path + 'MSCOCO_jpg.lmdb'\n",
    "lmdb_path_new = '/home/sonam/mscoco_test2015' \n",
    "\n",
    "dict_paths = {'train':'trainval.pickle', 'val':'val.pickle', 'test': 'test.pickle'} \n",
    "ans_paths = 'top_answer_list.pickle'"
   ]
  },
  {
   "cell_type": "code",
   "execution_count": 6,
   "metadata": {
    "collapsed": true
   },
   "outputs": [],
   "source": [
    "with open(dict_paths['train'], 'rb') as f:\n",
    "    dict_train = pickle.load(f, encoding='latin1')\n",
    "    ids_train = list(dict_train.keys())"
   ]
  },
  {
   "cell_type": "code",
   "execution_count": 7,
   "metadata": {},
   "outputs": [
    {
     "data": {
      "text/plain": [
       "'trainval.pickle'"
      ]
     },
     "execution_count": 7,
     "metadata": {},
     "output_type": "execute_result"
    }
   ],
   "source": [
    "dict_paths['train']"
   ]
  },
  {
   "cell_type": "code",
   "execution_count": 8,
   "metadata": {},
   "outputs": [
    {
     "name": "stdout",
     "output_type": "stream",
     "text": [
      "training image size 123287\n",
      "testing image size 81434\n"
     ]
    }
   ],
   "source": [
    "#loading MSCOCO img data \n",
    "lmdb_env = lmdb.open(lmdb_path, map_size=int(1e11), readonly=True, lock=False)\n",
    "txn = lmdb_env.begin(write=False)\n",
    "lmdb_env_test = lmdb.open(lmdb_path_new, map_size=int(1e11), readonly=True, lock=False)\n",
    "txn_test = lmdb_env_test.begin(write=False)\n",
    "with open(dict_paths['train'], 'rb') as f:\n",
    "    dict_train = pickle.load(f, encoding='latin1')\n",
    "    ids_train = list(dict_train.keys())\n",
    "    \n",
    "# with open(ans_paths,'rb') as f:\n",
    "#     unique_ans = pickle.load(f, encoding='latin1')\n",
    "    \n",
    "# with open(dict_paths['val'], 'rb') as f:\n",
    "#     dict_val = pickle.load(f, encoding='latin1')\n",
    "#     ids_val = list(dict_val.keys())\n",
    "\n",
    "with open(\"./idx2ans.pickle\", 'rb') as file:\n",
    "    idx2ans = pickle.load(file)\n",
    "    \n",
    "with open(dict_paths['test'], 'rb') as f:\n",
    "    dict_test = pickle.load(f, encoding='latin1')\n",
    "    ids_test = list(dict_test.keys())\n",
    "\n",
    "print('training image size', len(ids_train))\n",
    "#print('validation image size', len(ids_val))\n",
    "print('testing image size', len(ids_test))"
   ]
  },
  {
   "cell_type": "code",
   "execution_count": 9,
   "metadata": {
    "collapsed": true,
    "scrolled": true
   },
   "outputs": [],
   "source": [
    "#print(len(idx2ans))\n",
    "with open(dict_paths['test'], 'rb') as f:\n",
    "    dict_test = pickle.load(f, encoding='latin1')\n",
    "    ids_test = list(dict_test.keys())"
   ]
  },
  {
   "cell_type": "code",
   "execution_count": 10,
   "metadata": {},
   "outputs": [
    {
     "name": "stdout",
     "output_type": "stream",
     "text": [
      "[{393227000: {'question': 'does the guy have a tattoo ?', 'answer': [(['yes'], 1)], 'answer_id': [(3, 1)]}}, {393227001: {'question': 'what is this man riding on ?', 'answer': [(['skateboard'], 1)], 'answer_id': [(11, 1)]}}, {393227002: {'question': \"how many tattoos can be seen on this man 's body ?\", 'answer': [(['1'], 1), (['3'], 0.3), (['2'], 0.3)], 'answer_id': [(12, 1), (32, 0.3), (17, 0.3)]}}, {393227003: {'question': 'what color is his hat ?', 'answer': [(['backwards'], 0.3), (['blue'], 1)], 'answer_id': [(2497, 0.3), (13, 1)]}}, {393227004: {'question': \"is the man 's visor providing his face enough protection ?\", 'answer': [(['no'], 1)], 'answer_id': [(9, 1)]}}]\n",
      "[393227000] 0 {'question': 'does the guy have a tattoo ?', 'answer': [(['yes'], 1)], 'answer_id': [(3, 1)]}\n",
      "[393227001] 1 {'question': 'what is this man riding on ?', 'answer': [(['skateboard'], 1)], 'answer_id': [(11, 1)]}\n",
      "[393227002] 2 {'question': \"how many tattoos can be seen on this man 's body ?\", 'answer': [(['1'], 1), (['3'], 0.3), (['2'], 0.3)], 'answer_id': [(12, 1), (32, 0.3), (17, 0.3)]}\n",
      "[393227003] 3 {'question': 'what color is his hat ?', 'answer': [(['backwards'], 0.3), (['blue'], 1)], 'answer_id': [(2497, 0.3), (13, 1)]}\n",
      "[393227004] 4 {'question': \"is the man 's visor providing his face enough protection ?\", 'answer': [(['no'], 1)], 'answer_id': [(9, 1)]}\n"
     ]
    }
   ],
   "source": [
    "#print(dict_train.keys())\n",
    "print(dict_train['393227'])\n",
    "for i, annot in enumerate(dict_train['393227']):\n",
    "    k = list(annot.keys())\n",
    "    print(k, i, annot[k[0]])"
   ]
  },
  {
   "cell_type": "code",
   "execution_count": null,
   "metadata": {
    "collapsed": true
   },
   "outputs": [],
   "source": [
    "print(dict_test['262144'])\n",
    "for i, annot in enumerate(dict_test['262144']):\n",
    "    k = list(annot.keys())\n",
    "    print(annot[k[0]])\n"
   ]
  },
  {
   "cell_type": "code",
   "execution_count": null,
   "metadata": {
    "collapsed": true
   },
   "outputs": [],
   "source": [
    "# Test Image\n",
    "i = 1\n",
    "id_train = ids_train[i]\n",
    "print(id_train)\n",
    "print(txn)\n",
    "imgbin = txn.get(id_train.encode('utf-8'))\n",
    "buff = np.frombuffer(imgbin, dtype='uint8') \n",
    "#print(buff)\n",
    "imgbgr = cv2.imdecode(buff, cv2.IMREAD_COLOR)\n",
    "img = imgbgr[:,:,[2,1,0]]\n",
    "im = cv2.resize(img,(299,299)) \n",
    "print(im.shape)\n",
    "plt.imshow(im)"
   ]
  },
  {
   "cell_type": "code",
   "execution_count": 25,
   "metadata": {
    "collapsed": true
   },
   "outputs": [],
   "source": [
    "# Storing images in memory\n",
    "def preprocess_images(all_ids_list, db, db2):\n",
    "    valid_ids = []\n",
    "    images_dict = {}\n",
    "    for i, id_train in enumerate(all_ids_list):\n",
    "        imgbin = db.get(id_train.encode('utf-8'))\n",
    "        if imgbin == None:\n",
    "            imgbin = db2.get(id_train.encode('utf-8'))\n",
    "            if imgbin == None:\n",
    "                raise Exception(\"image not found! %s\" % id_train)\n",
    "        buff = np.frombuffer(imgbin, dtype='uint8')        \n",
    "        imgbgr = cv2.imdecode(buff, cv2.IMREAD_COLOR)\n",
    "        img = imgbgr[:,:,[2,1,0]]\n",
    "        im = cv2.resize(img,(299,299))  \n",
    "        valid_ids.append(id_train)\n",
    "        images_dict[id_train] = im\n",
    "        if i % 3000 == 0:\n",
    "            print('Processed: ', i, ' images')\n",
    "    print('Done pre-processing images')            \n",
    "    return valid_ids, images_dict"
   ]
  },
  {
   "cell_type": "code",
   "execution_count": 26,
   "metadata": {},
   "outputs": [
    {
     "name": "stdout",
     "output_type": "stream",
     "text": [
      "Processed:  0  images\n",
      "Processed:  3000  images\n",
      "Processed:  6000  images\n",
      "Processed:  9000  images\n",
      "Processed:  12000  images\n",
      "Processed:  15000  images\n",
      "Processed:  18000  images\n",
      "Processed:  21000  images\n",
      "Processed:  24000  images\n",
      "Processed:  27000  images\n",
      "Processed:  30000  images\n",
      "Processed:  33000  images\n",
      "Processed:  36000  images\n",
      "Processed:  39000  images\n",
      "Processed:  42000  images\n",
      "Processed:  45000  images\n",
      "Processed:  48000  images\n",
      "Processed:  51000  images\n",
      "Processed:  54000  images\n",
      "Processed:  57000  images\n",
      "Processed:  60000  images\n",
      "Processed:  63000  images\n",
      "Processed:  66000  images\n",
      "Processed:  69000  images\n",
      "Processed:  72000  images\n",
      "Processed:  75000  images\n",
      "Processed:  78000  images\n",
      "Processed:  81000  images\n",
      "Processed:  84000  images\n",
      "Processed:  87000  images\n",
      "Processed:  90000  images\n",
      "Processed:  93000  images\n",
      "Processed:  96000  images\n",
      "Processed:  99000  images\n",
      "Processed:  102000  images\n",
      "Processed:  105000  images\n",
      "Processed:  108000  images\n",
      "Processed:  111000  images\n",
      "Processed:  114000  images\n",
      "Processed:  117000  images\n",
      "Processed:  120000  images\n",
      "Processed:  123000  images\n",
      "Done pre-processing images\n",
      "Done pre-processing training images\n"
     ]
    }
   ],
   "source": [
    "# Preprocessing Training Images\n",
    "valid_ids_train, train_images = preprocess_images(ids_train, txn,txn_test)\n",
    "print('Done pre-processing training images')"
   ]
  },
  {
   "cell_type": "code",
   "execution_count": null,
   "metadata": {
    "collapsed": true
   },
   "outputs": [],
   "source": [
    "# Preprocessing Validation Images\n",
    "# valid_ids_val, val_images = preprocess_images(ids_val, txn, txn_test)\n",
    "# print('Done pre-processing validation images')"
   ]
  },
  {
   "cell_type": "code",
   "execution_count": 27,
   "metadata": {},
   "outputs": [
    {
     "name": "stdout",
     "output_type": "stream",
     "text": [
      "valid_trainids 123287\n"
     ]
    }
   ],
   "source": [
    "print('valid_trainids', len(valid_ids_train))\n",
    "#print('valid ids vals', len(valid_ids_val))"
   ]
  },
  {
   "cell_type": "code",
   "execution_count": 28,
   "metadata": {},
   "outputs": [
    {
     "name": "stdout",
     "output_type": "stream",
     "text": [
      "sonam\n"
     ]
    }
   ],
   "source": [
    "print('sonam')"
   ]
  },
  {
   "cell_type": "markdown",
   "metadata": {},
   "source": [
    "# Attention"
   ]
  },
  {
   "cell_type": "code",
   "execution_count": 11,
   "metadata": {
    "collapsed": true
   },
   "outputs": [],
   "source": [
    "# this method select the attendance feature which has the highest score\n",
    "def new_fusion(v, e_s):\n",
    "     with tf.variable_scope('new_loss'):\n",
    "            ###sentence-level###\n",
    "            #heatmap pool\n",
    "            h_s = tf.nn.relu(tf.einsum('bj,blkj->blk',e_s,v)) #pair-wise e_bar*v^T: ?xNx4\n",
    "            #attention\n",
    "            a_s = tf.einsum('bjk,bjki->bik',h_s,v) #?xDx4 attnded visual reps for sen.\n",
    "            #pair-wise score\n",
    "            a_s_norm = tf.nn.l2_normalize(a_s,axis=1) # ? *D*4\n",
    "            e_s_norm = tf.nn.l2_normalize(e_s,axis=1) # ?*D\n",
    "\n",
    "            R_sk = tf.einsum('bik,bi->bk',a_s_norm,e_s_norm) #cosine for (sen,img_reps)\n",
    "            R_sk = tf.identity(R_sk,name='level_score_sentence')\n",
    "            #R_s = tf.reduce_max(R_sk,axis=-1,name='score_sentence') #?\n",
    "            #heatmap\n",
    "            idx_k = tf.argmax(R_sk,axis=-1,name='level_index_sentence') #? index of the featuremap which maximizes R_i\n",
    "            idx_k = tf.cast(idx_k, tf.int32)\n",
    "            \n",
    "            batch_size_tensor = tf.shape(a_s)[0]\n",
    "            #dim_tensor = tf.shape(a_s)[1]\n",
    "            dim_tensor = 1024\n",
    "            \n",
    "            ii, jj = tf.meshgrid(tf.range(batch_size_tensor), tf.range(dim_tensor), indexing='ij')\n",
    "            kk, ll = tf.meshgrid(idx_k, tf.range(dim_tensor), indexing='ij')\n",
    "            ii = tf.cast(ii, tf.int64)\n",
    "            jj = tf.cast(jj, tf.int64)\n",
    "            kk = tf.cast(kk, tf.int64)            \n",
    "            c = tf.stack([tf.reshape(ii, (-1,)), tf.reshape(jj, (-1,)), tf.reshape(kk, (-1,))], axis=1)\n",
    "            c = tf.reshape(c, (batch_size_tensor, dim_tensor, 3))\n",
    "\n",
    "            best_visual = tf.gather_nd(a_s_norm, c)\n",
    "            fusion = tf.concat([e_s_norm, best_visual], axis=1)    #?*2D\n",
    "            return fusion\n",
    "\n",
    "# this method use score as weight for calculating the average of attendance feature\n",
    "def new_fusion_avg(v, e_s):\n",
    "     with tf.variable_scope('new_loss'):\n",
    "            ###sentence-level###\n",
    "            #heatmap pool\n",
    "            h_s = tf.nn.relu(tf.einsum('bj,blkj->blk',e_s,v)) #pair-wise e_bar*v^T: ?xNx4\n",
    "            #attention\n",
    "            a_s = tf.einsum('bjk,bjki->bik',h_s,v) #?xDx4 attnded visual reps for sen.\n",
    "            #pair-wise score\n",
    "            a_s_norm = tf.nn.l2_normalize(a_s,axis=1) # ? *D*4\n",
    "            e_s_norm = tf.nn.l2_normalize(e_s,axis=1) # ?*D\n",
    "\n",
    "            R_sk = tf.einsum('bik,bi->bk',a_s_norm,e_s_norm) #cosine for (sen,img_reps)\n",
    "            R_sk = tf.identity(R_sk,name='level_score_sentence')\n",
    "            \n",
    "            R_sk = tf.expand_dims(R_sk, 2)\n",
    "            \n",
    "            visual = tf.matmul(a_s_norm, R_sk)\n",
    "            visual = tf.squeeze(visual,[-1])\n",
    "            fusion = tf.concat([e_s_norm, visual], axis=1)    #?*2D\n",
    "            return fusion\n",
    "\n",
    "# this method feeds four attendance features to dense layer to generate a new attendance feature \n",
    "def new_fusion_learn(v, e_s):\n",
    "     with tf.variable_scope('new_loss'):\n",
    "            ###sentence-level###\n",
    "            #heatmap pool\n",
    "            h_s = tf.nn.relu(tf.einsum('bj,blkj->blk',e_s,v)) #pair-wise e_bar*v^T: ?xNx4\n",
    "            #attention\n",
    "            a_s = tf.einsum('bjk,bjki->bik',h_s,v) #?xDx4 attnded visual reps for sen.\n",
    "            #pair-wise score\n",
    "            a_s_norm = tf.nn.l2_normalize(a_s,axis=1) # ? *D*4\n",
    "            e_s_norm = tf.nn.l2_normalize(e_s,axis=1) # ?*D\n",
    "\n",
    "            visual = tf.contrib.layers.flatten(a_s_norm)\n",
    "            visual = tf.layers.dense(visual, units=1024)\n",
    "            visual = tf.nn.leaky_relu(visual,alpha=.25)\n",
    "            visual = tf.layers.dense(visual, units=e_s_norm.get_shape().as_list()[1])\n",
    "            \n",
    "            fusion = tf.concat([e_s_norm, visual], axis=1)    #?*2D\n",
    "            return fusion        \n",
    "    \n",
    "def build_bilstm(w_embd,seq_length):\n",
    "    with tf.variable_scope('BiLSTM'):\n",
    "        # Forward direction cell\n",
    "        lstm_fw_cell = tf.contrib.rnn.LSTMCell(512, forget_bias=1.0)\n",
    "        # Backward direction cell\n",
    "        lstm_bw_cell = tf.contrib.rnn.LSTMCell(512, forget_bias=1.0)\n",
    "        outputs, _ = tf.nn.bidirectional_dynamic_rnn(lstm_fw_cell, lstm_bw_cell, w_embd, sequence_length = seq_length,\n",
    "                                                  dtype=tf.float32)\n",
    "    output = tf.concat(outputs,axis=2,name='BiLSTM_out')\n",
    "    return output"
   ]
  },
  {
   "cell_type": "markdown",
   "metadata": {},
   "source": [
    "# Conv Functions"
   ]
  },
  {
   "cell_type": "code",
   "execution_count": 12,
   "metadata": {
    "collapsed": true
   },
   "outputs": [],
   "source": [
    "def add_3by3_conv(feat_map,n_layers,n_filters,name,regularizer):\n",
    "    with tf.variable_scope(name+'_postConv'):\n",
    "        for i in range(n_layers):\n",
    "            with tf.variable_scope(name+'_stage_'+str(i)):\n",
    "                feat_map = tf.layers.conv2d(feat_map, filters=n_filters[i], kernel_size=[3,3],\n",
    "                                            kernel_regularizer=regularizer, padding='same')\n",
    "                feat_map = tf.nn.leaky_relu(feat_map, alpha=.25)\n",
    "    return feat_map\n",
    "\n",
    "\n",
    "# def depth_selection(model, conv_kernel_size=3, n_layers = 3):\n",
    "#     conv_method = None\n",
    "#     if conv_kernel_size == 1:\n",
    "#         conv_method = add_1by1_conv\n",
    "#     elif conv_kernel_size == 3:\n",
    "#         conv_method = add_3by3_conv\n",
    "#     else:\n",
    "#         raise ValueError('Invalid conv_kernel_size parameter. Should be either 1 or 3.')\n",
    "#     with tf.variable_scope('stack_v'):\n",
    "#         v1 = tf.identity(model['vgg_16/conv5/conv5_1'],name='v1')\n",
    "#         v1 = conv_method(v1, n_layers, n_filters=[1024,1024,1024], name='v1', regularizer=regularizer)\n",
    "# #         n_filters=[1024]\n",
    "#         size = v1.get_shape().as_list()[1:3]\n",
    "#         resize_method = tf.image.ResizeMethod.BILINEAR\n",
    "#         v2 = tf.identity(model['vgg_16/conv5/conv5_3'],name='v2')\n",
    "#         v2 = tf.image.resize_images(v2, size, method=resize_method)\n",
    "#         v2 = conv_method(v2,n_layers,n_filters=[1024,1024,1024],name='v2',regularizer=regularizer)\n",
    "#         v3 = tf.identity(model['vgg_16/conv4/conv4_1'],name='v3')\n",
    "#         #new\n",
    "#         #v3 = tf.layers.max_pooling2d(v3,[2,2],strides=2)\n",
    "#         #old\n",
    "#         v3 = tf.image.resize_images(v3, size, method=resize_method)\n",
    "#         v3 = conv_method(v3,n_layers,n_filters=[1024,1024,1024],name='v3',regularizer=regularizer)\n",
    "#         v4 = tf.identity(model['vgg_16/conv4/conv4_3'],name='v4')\n",
    "#         v4 = tf.image.resize_images(v4, size, method=resize_method)\n",
    "#         #new\n",
    "#         #v4 = tf.layers.max_pooling2d(v4,[2,2],strides=2)\n",
    "#         v4 = conv_method(v4,n_layers,n_filters=[1024,1024,1024],name='v4',regularizer=regularizer)\n",
    "#         v_all = tf.stack([v1,v2,v3,v4], axis=3)\n",
    "#         v_all = tf.reshape(v_all,[-1,v_all.shape[1]*v_all.shape[2],v_all.shape[3],v_all.shape[4]])\n",
    "#         v_all = tf.nn.l2_normalize(v_all, axis=-1, name='stacked_image_feature_maps')\n",
    "#     return v_all\n",
    "\n",
    "def depth_selection_with_maxpool_pnasnet(model, conv_kernel_size=3, n_layers = 3):\n",
    "    conv_method = None\n",
    "    if conv_kernel_size == 1:\n",
    "        conv_method = add_1by1_conv\n",
    "    elif conv_kernel_size == 3:\n",
    "        conv_method = add_3by3_conv\n",
    "    else:\n",
    "        raise ValueError('Invalid conv_kernel_size parameter. Should be either 1 or 3.')\n",
    "    with tf.variable_scope('stack_v'):\n",
    "        v1 = tf.identity(model['Cell_5'],name='v1')\n",
    "        v1 = conv_method(v1,n_layers,n_filters=[1024],name='v1',regularizer=regularizer)\n",
    "        size = v1.get_shape().as_list()[1:3]\n",
    "        resize_method = tf.image.ResizeMethod.BILINEAR\n",
    "        v2 = tf.identity(model['Cell_7'],name='v2')\n",
    "       #v2 = tf.image.resize_images(v2, size, method=resize_method)\n",
    "        v2 = conv_method(v2,n_layers,n_filters=[1024],name='v2',regularizer=regularizer)\n",
    "        v3 = tf.identity(model['Cell_9'],name='v3')\n",
    "        v3 = tf.image.resize_images(v3, size, method=resize_method)\n",
    "        v3 = conv_method(v3,n_layers,n_filters=[1024],name='v3',regularizer=regularizer)\n",
    "        v4 = tf.identity(model['Cell_11'],name='v4')\n",
    "        v4 = tf.image.resize_images(v4, size, method=resize_method)\n",
    "        v4 = conv_method(v4,n_layers,n_filters=[1024],name='v4',regularizer=regularizer)\n",
    "        v_all = tf.stack([v1,v2,v3,v4], axis=3)\n",
    "        v_all = tf.reshape(v_all,[-1,v_all.shape[1]*v_all.shape[2],v_all.shape[3],v_all.shape[4]])\n",
    "        v_all = tf.nn.l2_normalize(v_all, axis=-1, name='stacked_image_feature_maps')\n",
    "    return v_all"
   ]
  },
  {
   "cell_type": "markdown",
   "metadata": {},
   "source": [
    "# Params"
   ]
  },
  {
   "cell_type": "code",
   "execution_count": 24,
   "metadata": {
    "collapsed": true
   },
   "outputs": [],
   "source": [
    "n_batch = 32\n",
    "reg_val = .0005\n",
    "n_layers = 1\n",
    "conv_kernel_size = 3\n",
    "n_ans = 3133\n",
    "lr_value_0 = .0001\n",
    "n_epochs = 20\n",
    "n_iter_per_epoch = int(len(dict_train) / n_batch)\n",
    "MAX_SEQ_LENGTH = 50\n",
    "BERT_MODEL_HUB = \"https://tfhub.dev/google/bert_uncased_L-12_H-768_A-12/1\"\n",
    "condition = 'VQA_MainFile_LSTM_learnable_fuse-3moredense_epoch15-PNASNet' + str(n_layers) +'bert_finetune'"
   ]
  },
  {
   "cell_type": "code",
   "execution_count": 14,
   "metadata": {
    "collapsed": true
   },
   "outputs": [],
   "source": [
    "def tf_print(tensor, transform=None):\n",
    "\n",
    "    # Insert a custom python operation into the graph that does nothing but print a tensors value \n",
    "    def print_tensor(x):\n",
    "        # x is typically a numpy array here so you could do anything you want with it,\n",
    "        # but adding a transformation of some kind usually makes the output more digestible\n",
    "        print(x if transform is None else transform(x))\n",
    "        return x\n",
    "    \n",
    "    log_op = tf.py_func(print_tensor, [tensor], [tensor.dtype])[0]\n",
    "    with tf.control_dependencies([log_op]):\n",
    "        res = tf.identity(tensor)\n",
    "\n",
    "    # Return the given tensor\n",
    "    return res"
   ]
  },
  {
   "cell_type": "markdown",
   "metadata": {},
   "source": [
    "#  Build Graph Using PreTrained Attention Model"
   ]
  },
  {
   "cell_type": "code",
   "execution_count": null,
   "metadata": {
    "collapsed": true
   },
   "outputs": [],
   "source": [
    "# sess.close()\n",
    "# tf.reset_default_graph()"
   ]
  },
  {
   "cell_type": "code",
   "execution_count": null,
   "metadata": {
    "collapsed": true
   },
   "outputs": [],
   "source": [
    "# try:\n",
    "#     sess.close()\n",
    "# except NameError:\n",
    "#     print(\"Definining session for the first time\")\n",
    "# tf.reset_default_graph()\n",
    "# condition = 'model_Performance_AttnGrnd_VGG_Depth_Max_VG_3by3_resize_nlayer1'\n",
    "# print('Loading grounding pretrained model...')\n",
    "# model_path = '../saved_models/'+ condition\n",
    "# print(model_path)\n",
    "# #model_path = '../model_CNN_avg'\n",
    "# sess, graph = load_model(model_path,config)\n",
    "# print('Model Loaded')"
   ]
  },
  {
   "cell_type": "code",
   "execution_count": null,
   "metadata": {
    "collapsed": true
   },
   "outputs": [],
   "source": [
    "# saved_model_variables = tf.get_collection(tf.GraphKeys.TRAINABLE_VARIABLES)\n",
    "# print(len(saved_model_variables))\n",
    "# visual_model_variables = []\n",
    "# for x in saved_model_variables:\n",
    "#     if 'vgg_16' in str(x):\n",
    "#         visual_model_variables.append(x)   \n",
    "# print(len(visual_model_variables))\n",
    "# print(type(visual_model_variables))\n",
    "# print(type(saved_model_variables))"
   ]
  },
  {
   "cell_type": "code",
   "execution_count": null,
   "metadata": {
    "collapsed": true
   },
   "outputs": [],
   "source": [
    "# def get_names(graph=tf.get_default_graph()):\n",
    "#     return [t.name for op in graph.get_operations() for t in op.values()]\n",
    "# print(get_names())"
   ]
  },
  {
   "cell_type": "code",
   "execution_count": null,
   "metadata": {
    "collapsed": true
   },
   "outputs": [],
   "source": [
    "# v = sess.graph.get_tensor_by_name(\"stack_v/stacked_image_feature_maps:0\")\n",
    "# e_s = sess.graph.get_tensor_by_name(\"sen_embedding:0\")\n",
    "# fusion = new_fusion(v, e_s)\n",
    "\n",
    "# #with tf.variable_scope('VQAClassifier'):\n",
    "# fusion = tf.layers.dense(fusion, units=1024)\n",
    "# fusion = tf.nn.leaky_relu(fusion,alpha=.25)\n",
    "# fusion = tf.layers.dense(fusion, units=n_ans)\n",
    "# fusion = tf.identity(fusion, name='fusion')\n",
    "# #answer_batch = tf.placeholder('int64', shape=[None], name='answer_input')\n",
    "# answer_batch = tf.placeholder(tf.float32, shape=[n_batch, n_ans], name='answer_input')\n",
    "# #loss = tf.losses.sparse_softmax_cross_entropy(logits=fusion, labels=answer_batch)\n",
    "# # loss = attn_loss(e_w,v,e_s) + tf.losses.get_regularization_loss()\n",
    "# loss = tf.nn.sigmoid_cross_entropy_with_logits(logits=fusion, labels=answer_batch)\n",
    "# loss = tf.reduce_mean(loss)\n",
    "# loss = tf.identity(loss, name='loss')\n",
    "\n",
    "# tf.summary.scalar('loss_value', loss)\n",
    "# lr = tf.placeholder(tf.float32, shape=[], name='learning_rate')\n",
    "# tf.summary.scalar('learning_rate', lr)\n",
    "# opt = tf.train.AdamOptimizer(lr)\n",
    "\n",
    "\n",
    "# train_vars = list(set(tf.get_collection(tf.GraphKeys.TRAINABLE_VARIABLES)) - set(visual_model_variables))\n",
    "# for x in train_vars:\n",
    "#     print(x)\n",
    "    \n",
    "# train_op = opt.minimize(loss, var_list=train_vars, name='train_op')\n",
    "\n",
    "# global_saver = tf.train.Saver()\n",
    "    \n",
    "# train_writer = tf.summary.FileWriter('./logs/vgg/vg', sess.graph)\n",
    "# merged = tf.summary.merge_all()\n",
    "# print('Model is built')"
   ]
  },
  {
   "cell_type": "code",
   "execution_count": null,
   "metadata": {
    "collapsed": true
   },
   "outputs": [],
   "source": [
    "#print(tf.__version__)"
   ]
  },
  {
   "cell_type": "code",
   "execution_count": null,
   "metadata": {
    "collapsed": true
   },
   "outputs": [],
   "source": [
    "# for x in train_vars:\n",
    "#     print(x)"
   ]
  },
  {
   "cell_type": "markdown",
   "metadata": {},
   "source": [
    "# Build Graph (Base)\n"
   ]
  },
  {
   "cell_type": "code",
   "execution_count": 34,
   "metadata": {},
   "outputs": [
    {
     "name": "stdout",
     "output_type": "stream",
     "text": [
      "Building Visual Model...\n",
      "Building Text Model...\n",
      "Model is built\n"
     ]
    }
   ],
   "source": [
    "try:\n",
    "    sess.close()\n",
    "except NameError:\n",
    "    print(\"Definining session for the first time\")\n",
    "tf.reset_default_graph()\n",
    "\n",
    "sess = tf.InteractiveSession(config=config)\n",
    "# T: max_length, D = 1024\n",
    "with tf.device('/gpu:0'):\n",
    "    \n",
    "    bert_module = hub.Module(BERT_MODEL_HUB, trainable=True)\n",
    "    tokenization_info = bert_module(signature=\"tokenization_info\", as_dict=True)\n",
    "    vocab_file, do_lower_case = sess.run([tokenization_info[\"vocab_file\"],\n",
    "                                                tokenization_info[\"do_lower_case\"]])\n",
    "    tokenizer = bert.tokenization.FullTokenizer(vocab_file=vocab_file, do_lower_case=do_lower_case)\n",
    "\n",
    "\n",
    "    mode = tf.placeholder(tf.string, name='mode')\n",
    "    isTraining = tf.equal(mode, 'train')\n",
    "    regularizer = tf.contrib.layers.l2_regularizer(reg_val)\n",
    "    #Building visual model\n",
    "    print('Building Visual Model...')\n",
    "    input_img = tf.placeholder(tf.float32, (None,299,299,3), name='input_img')\n",
    "    \n",
    "#     #For VG Training\n",
    "#     pre_processed_img = pre_process(input_img, 'vgg_preprocessing')\n",
    "#     vis_model = pre_trained_load(model_name='vgg_16', image_shape=(None,299,299,3),\n",
    "#                               input_tensor=pre_processed_img, session=sess, is_training=False, global_pool=True)\n",
    "#     v = depth_selection(vis_model, conv_kernel_size = 3, n_layers = n_layers) #(?,1225,4,1024)\n",
    "\n",
    "#     For PNAS Net Training\n",
    "    pre_processed_img = pre_process(input_img, 'inception_preprocessing')\n",
    "    vis_model = pre_trained_load(model_name='pnasnet_large', image_shape=(None,299,299,3),\n",
    "                                 input_tensor=pre_processed_img, session=sess, is_training=False, global_pool=True)\n",
    "    v = depth_selection_with_maxpool_pnasnet(vis_model, n_layers = n_layers) #(?,1225,4,1024)\n",
    "\n",
    "    #Building text model\n",
    "    print('Building Text Model...')\n",
    "    #sentence placeholder - list of sentences\n",
    "#     text_batch = tf.placeholder('string', shape=[None], name='text_input')\n",
    "#     #loading pre-trained ELMo\n",
    "#     elmo = hub.Module(\"https://tfhub.dev/google/elmo/2\", trainable=True)\n",
    "#     #getting ELMo embeddings\n",
    "#     print('Loading Embeddings')\n",
    "#     elmo_embds = elmo(text_batch, signature=\"default\", as_dict=True)\n",
    "#     lstm1_embd = elmo_embds['lstm_outputs1'] #?xTXD\n",
    "#     lstm2_embd = elmo_embds['lstm_outputs2'] #?xTXD\n",
    "#     w_embd = tf.identity(elmo_embds['elmo'], name='elmo_word_embd') #?xTXD\n",
    "#     #taking index of last word in each sentence\n",
    "#     idx = elmo_embds['sequence_len']-1 # [l1,l2,.....?]-1\n",
    "    \n",
    "#     #tf.size(idx) :batchsize\n",
    "#     batch_idx = tf.stack([tf.range(0,tf.size(idx),1),idx],axis=1) # batchsize*2 , 1 col: 0,1,2... 2 col: lengths-1\n",
    "    \n",
    "#     # Concatenate first of backward with last of forward to get sentence embeddings\n",
    "#     print('Getting Sentence Embeddings')\n",
    "#     dim = lstm1_embd.get_shape().as_list()[-1] #?,?, 1024\n",
    "    \n",
    "#     sen_embd_1 = tf.concat([lstm1_embd[:,0,int(dim/2):],\n",
    "#                             tf.gather_nd(lstm1_embd[:,:,:int(dim/2)],batch_idx)], axis=-1) #[batch,dim]\n",
    "    \n",
    "#     sen_embd_2 = tf.concat([lstm2_embd[:,0,int(dim/2):],\n",
    "#                             tf.gather_nd(lstm2_embd[:,:,:int(dim/2)],batch_idx)], axis=-1) #[batch,dim]\n",
    "    \n",
    "#     sen_embd = tf.concat([tf.expand_dims(sen_embd_1,axis=2),\n",
    "#                                tf.expand_dims(sen_embd_2,axis=2)], axis=2, name='elmo_sen_embd') #[batch,dim]\n",
    "    \n",
    "#     e_s = tf.layers.dense(sen_embd,units=1,use_bias=False) #?xDx1\n",
    "\n",
    "#     e_s = tf.squeeze(e_s,axis=2) #?*D\n",
    "#     e_s = tf.layers.dense(e_s, units=1024)\n",
    "#     e_s = tf.nn.leaky_relu(e_s,alpha=.25)\n",
    "#     e_s = tf.layers.dense(e_s, units=1024)\n",
    "#     e_s = tf.nn.leaky_relu(e_s,alpha=.25) #?*D\n",
    "#     e_s = tf.nn.l2_normalize(e_s, axis=-1, name='sen_embedding')\n",
    "    \n",
    "\n",
    "#     e_w = tf.layers.dense(w_embd, units=1024) #?xTXD\n",
    "#     e_w = tf.nn.leaky_relu(e_w,alpha=.25)\n",
    "#     e_w = tf.layers.dense(e_w, units=1024)\n",
    "#     e_w = tf.nn.leaky_relu(e_w,alpha=.25)\n",
    "#     e_w = tf.nn.l2_normalize(e_w, axis=-1, name='w_embedding') #?xTXD\n",
    "   \n",
    "\n",
    "     \n",
    "#     #sentence placeholder - list of sentences\n",
    "#     #text_batch = tf.placeholder('string', shape=[None], name='text_input')\n",
    "    #loading pre-trained Bert\n",
    "    input_ids = tf.placeholder(\"int32\", shape=[None,MAX_SEQ_LENGTH], name='input_ids_input')\n",
    "    input_mask = tf.placeholder(\"int32\", shape=[None,MAX_SEQ_LENGTH], name='input_mask_input')\n",
    "    segment_ids = tf.placeholder(\"int32\", shape=[None,MAX_SEQ_LENGTH], name='segment_ids_input')\n",
    "    bert_inputs = dict(\n",
    "        input_ids=input_ids,\n",
    "        input_mask=input_mask,\n",
    "        segment_ids=segment_ids)\n",
    "    bert_outputs = bert_module(bert_inputs, signature=\"tokens\", as_dict=True)\n",
    "    sen_embd = bert_outputs[\"pooled_output\"]\n",
    "    #sequence_output = bert_outputs[\"sequence_output\"]\n",
    "    #sen_embd = tf.placeholder('float', shape=[None, 768], name='text_input')\n",
    "    \n",
    "    \n",
    "#     w_embd = tf.identity(elmo_embds['word_emb'], name='elmo_word_embd') #?xTxD/2\n",
    "#     lstm_embd = build_bilstm(w_embd,elmo_embds['sequence_len']) #?xTxD\n",
    "    \n",
    "#     #taking index of last word in each sentence\n",
    "#     idx = elmo_embds['sequence_len']-1\n",
    "#     batch_idx = tf.stack([tf.range(0,tf.size(idx),1),idx],axis=1)\n",
    "#     # Concatenate first of backward with last of forward to get sentence embeddings\n",
    "#     dim = lstm_embd.get_shape().as_list()[-1]\n",
    "#     sen_embd = tf.concat([lstm_embd[:,0,int(dim/2):],\n",
    "#     tf.gather_nd(lstm_embd[:,:,:int(dim/2)],batch_idx)], axis=-1) #[batch,dim]\n",
    "\n",
    "    e_s = tf.layers.dense(sen_embd, units=1024)\n",
    "    e_s = tf.nn.leaky_relu(e_s,alpha=.25)\n",
    "    e_s = tf.layers.dense(e_s, units=1024)\n",
    "    e_s = tf.nn.leaky_relu(e_s,alpha=.25)\n",
    "    e_s = tf.nn.l2_normalize(e_s, axis=-1, name='sen_embedding')\n",
    "\n",
    "#     w_embd_tiled = tf.tile(w_embd,[1,1,2])\n",
    "#     w_embd = tf.concat([tf.expand_dims(w_embd_tiled,axis=3),tf.expand_dims(lstm_embd,axis=3)],axis=3)\n",
    "#     w_embd = tf.layers.dense(w_embd, units=1)[:,:,:,0]\n",
    "#     e_w = tf.layers.dense(w_embd, units=1024)\n",
    "#     e_w = tf.nn.leaky_relu(e_w,alpha=.25)\n",
    "#     e_w = tf.layers.dense(e_w, units=1024)\n",
    "#     e_w = tf.nn.leaky_relu(e_w,alpha=.25)\n",
    "#     e_w = tf.nn.l2_normalize(e_w, axis=-1, name='w_embedding')\n",
    "    \n",
    "    \n",
    "# print('Generating Heatmaps')\n",
    "   # heatmap_w,heatmap_s,R_i,R_s = attn(e_w,v,e_s)\n",
    "    \n",
    "    with tf.variable_scope('VQAClassifier'):\n",
    "        fusion = new_fusion_learn(v, e_s)\n",
    "        fusion = tf.layers.dense(fusion, units=1024)\n",
    "        fusion = tf.nn.leaky_relu(fusion,alpha=.25)\n",
    "        fusion = tf.layers.dense(fusion, units=1024)\n",
    "        fusion = tf.nn.leaky_relu(fusion,alpha=.25)\n",
    "        fusion = tf.layers.dense(fusion, units=1024)\n",
    "        fusion = tf.nn.leaky_relu(fusion,alpha=.25)\n",
    "        fusion = tf.layers.dense(fusion, units=1024)\n",
    "        fusion = tf.nn.leaky_relu(fusion,alpha=.25)\n",
    "        fusion = tf.layers.dense(fusion, units=n_ans)\n",
    "        fusion = tf.identity(fusion, name='fusion')\n",
    "    \n",
    "    answer_batch = tf.placeholder(tf.float32, shape=[n_batch, n_ans], name='answer_input')\n",
    "    loss = tf.nn.sigmoid_cross_entropy_with_logits(logits=fusion, labels=answer_batch)\n",
    "    loss = tf.reduce_mean(loss)\n",
    "    loss = tf.identity(loss, name='loss')\n",
    "\n",
    "    tf.summary.scalar('loss_value', loss)\n",
    "\n",
    "    lr = tf.placeholder(tf.float32, shape=[], name='learning_rate')\n",
    "    tf.summary.scalar('learning_rate', lr)\n",
    "    opt = tf.train.AdamOptimizer(lr)\n",
    "\n",
    "    train_vars = list(set(tf.get_collection(tf.GraphKeys.TRAINABLE_VARIABLES)) - set(vis_model.model_weights))\n",
    "    train_op = opt.minimize(loss, var_list=train_vars, name='train_op') \n",
    "\n",
    "    train_writer = tf.summary.FileWriter('./logs/vgg/vg', sess.graph)\n",
    "    merged = tf.summary.merge_all()\n",
    "    print('Model is built')"
   ]
  },
  {
   "cell_type": "code",
   "execution_count": null,
   "metadata": {
    "collapsed": true
   },
   "outputs": [],
   "source": [
    "# if restoring variables\n",
    "# condition = 'model_Performance_AttnGrnd_VGG_Depth_Max_VG_3by3_resize_nlayer1'\n",
    "# ckpt_path = '../saved_models/'+ condition   \n",
    "# vars_to_restore = []\n",
    "# vars_to_initialize = []\n",
    "# for x in tf.global_variables():\n",
    "#     if 'VQAClassifier' not in str(x):\n",
    "#         vars_to_restore.append(x) \n",
    "#     else:\n",
    "#         vars_to_initialize.append(x)"
   ]
  },
  {
   "cell_type": "code",
   "execution_count": null,
   "metadata": {
    "collapsed": true
   },
   "outputs": [],
   "source": [
    "for x in train_vars:\n",
    "    print(x)"
   ]
  },
  {
   "cell_type": "code",
   "execution_count": null,
   "metadata": {
    "collapsed": true
   },
   "outputs": [],
   "source": [
    "# for x in tf.global_variables():\n",
    "#     print(x)"
   ]
  },
  {
   "cell_type": "markdown",
   "metadata": {},
   "source": [
    "# Batch Gen"
   ]
  },
  {
   "cell_type": "code",
   "execution_count": 16,
   "metadata": {
    "collapsed": true
   },
   "outputs": [],
   "source": [
    "def batch_gen(valid_ids, annot_dict, train_images,n_batch):\n",
    "    img_batch = np.empty((n_batch, 299, 299, 3), dtype='float32')\n",
    "    cap_batch = []\n",
    "    ans_batch = []\n",
    "    chosen_ids = random.sample(valid_ids, n_batch)\n",
    "    for i, chosen_id in enumerate(chosen_ids):\n",
    "        imgbin = train_images[chosen_id]\n",
    "        img_batch[i,:,:,:] = imgbin\n",
    "        questions = []\n",
    "        answers = []\n",
    "        for annot in annot_dict[chosen_id]:\n",
    "            q_id = list(annot.keys())[0] \n",
    "            questions.append(annot[q_id]['question'])\n",
    "            label = np.zeros(3133, dtype='float32')\n",
    "            for answer in annot[q_id]['answer_id']:\n",
    "                label[answer[0]] = answer[1]\n",
    "            answers.append(label)\n",
    "        n_ques = len(questions)\n",
    "        idx = random.choice(range(n_ques))  \n",
    "        cap_batch.append(questions[idx])\n",
    "        ans_batch.append(answers[idx])\n",
    "        \n",
    "    return img_batch, cap_batch, ans_batch\n",
    "\n",
    "def preprocessbertinputs(text_batch, tokenizer):\n",
    "    label_list = [0,1]\n",
    "    train_InputExamples = [bert.run_classifier.InputExample(guid=\"\", text_a = x, text_b = None, label = 0) for x in text_batch ]\n",
    "    train_features = bert.run_classifier.convert_examples_to_features(train_InputExamples, label_list, MAX_SEQ_LENGTH, tokenizer) \n",
    "    input_ids_bert =  [x.input_ids for x in train_features]\n",
    "    input_mask_bert = [x.input_mask for x in train_features]\n",
    "    segment_ids_bert = [x.segment_ids for x in train_features]\n",
    "    return input_ids_bert, input_mask_bert, segment_ids_bert\n",
    "\n",
    "def bert_sentenceembedding(text_batch,bert_embedding):\n",
    "    n_batch = len(text_batch)\n",
    "    sen_emb = np.zeros(n_batch, 768)\n",
    "    result = bert_embedding(text_batch)\n",
    "    sen_embd = [sum(x[1])/len(x[1]) for x in result]\n",
    "    return sen_embd"
   ]
  },
  {
   "cell_type": "markdown",
   "metadata": {},
   "source": [
    "# Validation"
   ]
  },
  {
   "cell_type": "code",
   "execution_count": 17,
   "metadata": {
    "collapsed": true
   },
   "outputs": [],
   "source": [
    "class Question:\n",
    "    def __init__(self,question_id,image_id,question,answer_id=None):\n",
    "        self.question_id = question_id\n",
    "        self.image_id = image_id\n",
    "        self.question = question\n",
    "        self.answer_id = answer_id"
   ]
  },
  {
   "cell_type": "code",
   "execution_count": 18,
   "metadata": {
    "collapsed": true
   },
   "outputs": [],
   "source": [
    "# #Generating All Questions in Validation Batch\n",
    "# final_val_list = []\n",
    "# for k, doc_id in enumerate(dict_val):\n",
    "#     image_id = doc_id\n",
    "#     for annot in dict_val[doc_id]:\n",
    "#         question_id = list(annot.keys())[0]\n",
    "#         question = annot[question_id]['question']\n",
    "#         answer_id = annot[question_id]['answer_id']\n",
    "#         ques = Question(question_id ,image_id, question,answer_id)\n",
    "#         final_val_list.append(ques)"
   ]
  },
  {
   "cell_type": "code",
   "execution_count": null,
   "metadata": {
    "collapsed": true
   },
   "outputs": [],
   "source": [
    "# print('Validation_Questions', len(final_val_list))"
   ]
  },
  {
   "cell_type": "code",
   "execution_count": null,
   "metadata": {
    "collapsed": true
   },
   "outputs": [],
   "source": [
    "# def generate_batches(questions_list, batch_size):\n",
    "#     n = len(questions_list)\n",
    "    \n",
    "#     questions_batch = []\n",
    "#     for i, ques in enumerate(questions_list):\n",
    "#         questions_batch.append(ques)\n",
    "#         if ((i + 1) % batch_size == 0) or ((i + 1) == n):\n",
    "#             yield questions_batch\n",
    "#             questions_batch = []"
   ]
  },
  {
   "cell_type": "code",
   "execution_count": null,
   "metadata": {
    "collapsed": true
   },
   "outputs": [],
   "source": [
    "# Generating validation data\n",
    "# def validate_val(final_val_list, val_images, idx2ans, batch_size):\n",
    "#     val_acc = 0\n",
    "#     total_val_acc = 0\n",
    "#     total_cnt = 0\n",
    "#     print(\"----started\")\n",
    "\n",
    "#     l = 0\n",
    "#     for question_batch in generate_batches(final_val_list, batch_size):\n",
    "#         num_questions = len(question_batch)\n",
    "        \n",
    "#         img_batch = np.empty((num_questions, 299, 299, 3))\n",
    "#         ques_batch = []\n",
    "#         ques_ids_batch = []\n",
    "#         true_answer_batch =[]\n",
    "#         results = list()\n",
    "#         total_cnt += num_questions\n",
    "        \n",
    "#         for j, ques in enumerate(question_batch):\n",
    "#             image_id = ques.image_id\n",
    "#             question_id = ques.question_id\n",
    "#             question = ques.question\n",
    "#             true_answer = ques.answer_id\n",
    "\n",
    "#             img = np.reshape(val_images[image_id], (299, 299, 3))\n",
    "#             img_batch[j,:] = img\n",
    "#             ques_batch.append(question)\n",
    "#             ques_ids_batch.append(question_id)\n",
    "#             true_answer_batch.append(true_answer)\n",
    "        \n",
    "#         feed_dict = {input_img: img_batch, text_batch: ques_batch, mode:\"test\"}\n",
    "#         pred = sess.run(fusion, feed_dict)\n",
    "#         idx = np.argmax(pred, axis=1)\n",
    "        \n",
    "        \n",
    "#         for k, each_idx in enumerate(idx):\n",
    "#             ground_truth_list = true_answer_batch[k]\n",
    "#             score = 0\n",
    "#             for ansid, ans_score in ground_truth_list:\n",
    "#                 if ansid==each_idx:\n",
    "#                     score =ans_score\n",
    "#                     break        \n",
    "#             total_val_acc += score\n",
    "            \n",
    "#             results.append({\"question_id\": ques_ids_batch[k], \"answer\": idx2ans[each_idx]}) \n",
    "#         l += 1\n",
    "#         if l % 100 == 0:\n",
    "#             print(\"Number of batches done: \", l, \"; num_results: \", str(len(results)))\n",
    "        \n",
    "#         val_acc = total_val_acc/total_cnt\n",
    "        \n",
    "#     return val_acc*100\n"
   ]
  },
  {
   "cell_type": "markdown",
   "metadata": {
    "collapsed": true
   },
   "source": [
    "# Training"
   ]
  },
  {
   "cell_type": "code",
   "execution_count": 35,
   "metadata": {},
   "outputs": [
    {
     "name": "stdout",
     "output_type": "stream",
     "text": [
      "Initializing...\n",
      "done\n"
     ]
    }
   ],
   "source": [
    "print('Initializing...')\n",
    "_ = sess.run([tf.global_variables_initializer()])\n",
    "#_ = sess.run([tf.global_variables_initializer(initializer_variable_list)])\n",
    "#loading pretrained vgg weights\n",
    "#print('Loading visual path model (vgg)...')\n",
    "#vis_model.load_weights()\n",
    "print('done')"
   ]
  },
  {
   "cell_type": "code",
   "execution_count": 36,
   "metadata": {},
   "outputs": [
    {
     "name": "stdout",
     "output_type": "stream",
     "text": [
      "Loading visual path model (vgg)...\n"
     ]
    }
   ],
   "source": [
    "print('Loading visual path model (vgg)...')\n",
    "vis_model.load_weights()"
   ]
  },
  {
   "cell_type": "code",
   "execution_count": 37,
   "metadata": {},
   "outputs": [
    {
     "name": "stdout",
     "output_type": "stream",
     "text": [
      "sonam\n"
     ]
    }
   ],
   "source": [
    "global_saver = tf.train.Saver()\n",
    "print('sonam')\n",
    "# global_saver.restore(sess, ckpt_path)\n",
    "tf.logging.set_verbosity(tf.logging.ERROR)"
   ]
  },
  {
   "cell_type": "code",
   "execution_count": 22,
   "metadata": {},
   "outputs": [
    {
     "name": "stdout",
     "output_type": "stream",
     "text": [
      "<tf.Variable 'module/bert/encoder/layer_1/output/dense/bias:0' shape=(768,) dtype=float32>\n",
      "<tf.Variable 'module/bert/encoder/layer_8/intermediate/dense/bias:0' shape=(3072,) dtype=float32>\n",
      "<tf.Variable 'dense/bias:0' shape=(1024,) dtype=float32_ref>\n",
      "<tf.Variable 'dense/kernel:0' shape=(768, 1024) dtype=float32_ref>\n",
      "<tf.Variable 'VQAClassifier/dense_2/bias:0' shape=(1024,) dtype=float32_ref>\n",
      "<tf.Variable 'module/bert/encoder/layer_7/attention/self/query/bias:0' shape=(768,) dtype=float32>\n",
      "<tf.Variable 'module/bert/encoder/layer_0/attention/self/key/bias:0' shape=(768,) dtype=float32>\n",
      "<tf.Variable 'module/bert/encoder/layer_5/attention/self/value/bias:0' shape=(768,) dtype=float32>\n",
      "<tf.Variable 'module/bert/encoder/layer_7/attention/self/key/kernel:0' shape=(768, 768) dtype=float32>\n",
      "<tf.Variable 'module/bert/encoder/layer_0/attention/self/value/kernel:0' shape=(768, 768) dtype=float32>\n",
      "<tf.Variable 'module/bert/encoder/layer_5/attention/output/dense/kernel:0' shape=(768, 768) dtype=float32>\n",
      "<tf.Variable 'module/bert/embeddings/LayerNorm/beta:0' shape=(768,) dtype=float32>\n",
      "<tf.Variable 'module/bert/encoder/layer_7/attention/self/key/bias:0' shape=(768,) dtype=float32>\n",
      "<tf.Variable 'module/bert/encoder/layer_0/attention/self/value/bias:0' shape=(768,) dtype=float32>\n",
      "<tf.Variable 'module/bert/encoder/layer_5/attention/output/dense/bias:0' shape=(768,) dtype=float32>\n",
      "<tf.Variable 'module/bert/encoder/layer_7/attention/self/value/kernel:0' shape=(768, 768) dtype=float32>\n",
      "<tf.Variable 'module/bert/encoder/layer_0/attention/output/dense/kernel:0' shape=(768, 768) dtype=float32>\n",
      "<tf.Variable 'module/bert/encoder/layer_5/intermediate/dense/kernel:0' shape=(768, 3072) dtype=float32>\n",
      "<tf.Variable 'module/bert/encoder/layer_7/attention/self/value/bias:0' shape=(768,) dtype=float32>\n",
      "<tf.Variable 'module/bert/encoder/layer_0/attention/output/dense/bias:0' shape=(768,) dtype=float32>\n",
      "<tf.Variable 'module/bert/encoder/layer_5/intermediate/dense/bias:0' shape=(3072,) dtype=float32>\n",
      "<tf.Variable 'module/bert/encoder/layer_7/attention/output/dense/kernel:0' shape=(768, 768) dtype=float32>\n",
      "<tf.Variable 'module/bert/encoder/layer_0/intermediate/dense/kernel:0' shape=(768, 3072) dtype=float32>\n",
      "<tf.Variable 'module/bert/encoder/layer_5/output/dense/kernel:0' shape=(3072, 768) dtype=float32>\n",
      "<tf.Variable 'VQAClassifier/new_loss/dense/bias:0' shape=(1024,) dtype=float32_ref>\n",
      "<tf.Variable 'module/bert/encoder/layer_7/attention/output/dense/bias:0' shape=(768,) dtype=float32>\n",
      "<tf.Variable 'module/bert/encoder/layer_0/intermediate/dense/bias:0' shape=(3072,) dtype=float32>\n",
      "<tf.Variable 'VQAClassifier/new_loss/dense/kernel:0' shape=(4096, 1024) dtype=float32_ref>\n",
      "<tf.Variable 'module/bert/encoder/layer_5/output/dense/bias:0' shape=(768,) dtype=float32>\n",
      "<tf.Variable 'VQAClassifier/dense_4/kernel:0' shape=(1024, 3133) dtype=float32_ref>\n",
      "<tf.Variable 'module/bert/encoder/layer_7/intermediate/dense/kernel:0' shape=(768, 3072) dtype=float32>\n",
      "<tf.Variable 'module/bert/encoder/layer_0/output/dense/kernel:0' shape=(3072, 768) dtype=float32>\n",
      "<tf.Variable 'module/bert/encoder/layer_6/attention/self/query/kernel:0' shape=(768, 768) dtype=float32>\n",
      "<tf.Variable 'module/bert/encoder/layer_7/intermediate/dense/bias:0' shape=(3072,) dtype=float32>\n",
      "<tf.Variable 'dense_1/kernel:0' shape=(1024, 1024) dtype=float32_ref>\n",
      "<tf.Variable 'module/bert/encoder/layer_0/output/dense/bias:0' shape=(768,) dtype=float32>\n",
      "<tf.Variable 'module/bert/encoder/layer_6/attention/self/query/bias:0' shape=(768,) dtype=float32>\n",
      "<tf.Variable 'module/bert/encoder/layer_7/output/dense/kernel:0' shape=(3072, 768) dtype=float32>\n",
      "<tf.Variable 'module/bert/encoder/layer_1/attention/self/query/kernel:0' shape=(768, 768) dtype=float32>\n",
      "<tf.Variable 'module/bert/encoder/layer_6/attention/self/key/kernel:0' shape=(768, 768) dtype=float32>\n",
      "<tf.Variable 'module/bert/encoder/layer_7/output/dense/bias:0' shape=(768,) dtype=float32>\n",
      "<tf.Variable 'module/bert/encoder/layer_1/attention/self/query/bias:0' shape=(768,) dtype=float32>\n",
      "<tf.Variable 'module/bert/encoder/layer_6/attention/self/key/bias:0' shape=(768,) dtype=float32>\n",
      "<tf.Variable 'module/bert/encoder/layer_8/attention/self/query/kernel:0' shape=(768, 768) dtype=float32>\n",
      "<tf.Variable 'module/bert/encoder/layer_1/attention/self/key/kernel:0' shape=(768, 768) dtype=float32>\n",
      "<tf.Variable 'module/bert/encoder/layer_6/attention/self/value/kernel:0' shape=(768, 768) dtype=float32>\n",
      "<tf.Variable 'stack_v/v1_postConv/v1_stage_0/conv2d/bias:0' shape=(1024,) dtype=float32_ref>\n",
      "<tf.Variable 'module/bert/encoder/layer_8/attention/self/query/bias:0' shape=(768,) dtype=float32>\n",
      "<tf.Variable 'module/bert/encoder/layer_1/attention/self/key/bias:0' shape=(768,) dtype=float32>\n",
      "<tf.Variable 'module/bert/encoder/layer_6/attention/self/value/bias:0' shape=(768,) dtype=float32>\n",
      "<tf.Variable 'VQAClassifier/new_loss/dense_1/bias:0' shape=(1024,) dtype=float32_ref>\n",
      "<tf.Variable 'module/bert/encoder/layer_8/attention/self/key/kernel:0' shape=(768, 768) dtype=float32>\n",
      "<tf.Variable 'module/bert/encoder/layer_1/attention/self/value/kernel:0' shape=(768, 768) dtype=float32>\n",
      "<tf.Variable 'module/bert/encoder/layer_6/attention/output/dense/kernel:0' shape=(768, 768) dtype=float32>\n",
      "<tf.Variable 'dense_1/bias:0' shape=(1024,) dtype=float32_ref>\n",
      "<tf.Variable 'module/bert/encoder/layer_8/attention/self/key/bias:0' shape=(768,) dtype=float32>\n",
      "<tf.Variable 'module/bert/encoder/layer_1/attention/self/value/bias:0' shape=(768,) dtype=float32>\n",
      "<tf.Variable 'module/bert/encoder/layer_6/attention/output/dense/bias:0' shape=(768,) dtype=float32>\n",
      "<tf.Variable 'module/bert/encoder/layer_8/attention/self/value/kernel:0' shape=(768, 768) dtype=float32>\n",
      "<tf.Variable 'module/bert/encoder/layer_1/attention/output/dense/kernel:0' shape=(768, 768) dtype=float32>\n",
      "<tf.Variable 'VQAClassifier/new_loss/dense_1/kernel:0' shape=(1024, 1024) dtype=float32_ref>\n",
      "<tf.Variable 'module/bert/encoder/layer_6/intermediate/dense/kernel:0' shape=(768, 3072) dtype=float32>\n",
      "<tf.Variable 'module/bert/encoder/layer_8/attention/self/value/bias:0' shape=(768,) dtype=float32>\n",
      "<tf.Variable 'module/bert/encoder/layer_1/attention/output/dense/bias:0' shape=(768,) dtype=float32>\n",
      "<tf.Variable 'module/bert/encoder/layer_6/intermediate/dense/bias:0' shape=(3072,) dtype=float32>\n",
      "<tf.Variable 'module/bert/encoder/layer_8/attention/output/dense/kernel:0' shape=(768, 768) dtype=float32>\n",
      "<tf.Variable 'module/bert/encoder/layer_1/intermediate/dense/kernel:0' shape=(768, 3072) dtype=float32>\n",
      "<tf.Variable 'module/bert/encoder/layer_6/output/dense/kernel:0' shape=(3072, 768) dtype=float32>\n",
      "<tf.Variable 'module/bert/encoder/layer_8/attention/output/dense/bias:0' shape=(768,) dtype=float32>\n",
      "<tf.Variable 'module/bert/encoder/layer_1/intermediate/dense/bias:0' shape=(3072,) dtype=float32>\n",
      "<tf.Variable 'module/bert/encoder/layer_6/output/dense/bias:0' shape=(768,) dtype=float32>\n",
      "<tf.Variable 'module/bert/encoder/layer_8/intermediate/dense/kernel:0' shape=(768, 3072) dtype=float32>\n",
      "<tf.Variable 'module/bert/encoder/layer_1/output/dense/kernel:0' shape=(3072, 768) dtype=float32>\n",
      "<tf.Variable 'module/bert/encoder/layer_5/attention/self/key/bias:0' shape=(768,) dtype=float32>\n",
      "<tf.Variable 'module/bert/encoder/layer_7/attention/self/query/kernel:0' shape=(768, 768) dtype=float32>\n",
      "<tf.Variable 'VQAClassifier/dense_2/kernel:0' shape=(1024, 1024) dtype=float32_ref>\n",
      "<tf.Variable 'module/bert/encoder/layer_5/attention/self/value/kernel:0' shape=(768, 768) dtype=float32>\n",
      "<tf.Variable 'module/cls/predictions/transform/dense/kernel:0' shape=(768, 768) dtype=float32>\n",
      "<tf.Variable 'module/bert/embeddings/word_embeddings:0' shape=(30522, 768) dtype=float32>\n",
      "<tf.Variable 'module/bert/encoder/layer_8/attention/output/LayerNorm/gamma:0' shape=(768,) dtype=float32>\n",
      "<tf.Variable 'module/bert/encoder/layer_3/attention/output/dense/bias:0' shape=(768,) dtype=float32>\n",
      "<tf.Variable 'module/bert/encoder/layer_10/attention/output/dense/kernel:0' shape=(768, 768) dtype=float32>\n",
      "<tf.Variable 'VQAClassifier/dense/bias:0' shape=(1024,) dtype=float32_ref>\n",
      "<tf.Variable 'VQAClassifier/dense_4/bias:0' shape=(3133,) dtype=float32_ref>\n",
      "<tf.Variable 'stack_v/v1_postConv/v1_stage_0/conv2d/kernel:0' shape=(3, 3, 2160, 1024) dtype=float32_ref>\n",
      "<tf.Variable 'module/bert/encoder/layer_3/intermediate/dense/kernel:0' shape=(768, 3072) dtype=float32>\n",
      "<tf.Variable 'stack_v/v2_postConv/v2_stage_0/conv2d/bias:0' shape=(1024,) dtype=float32_ref>\n",
      "<tf.Variable 'module/bert/encoder/layer_2/output/LayerNorm/beta:0' shape=(768,) dtype=float32>\n",
      "<tf.Variable 'module/bert/encoder/layer_8/output/LayerNorm/beta:0' shape=(768,) dtype=float32>\n",
      "<tf.Variable 'module/bert/encoder/layer_8/output/dense/kernel:0' shape=(3072, 768) dtype=float32>\n",
      "<tf.Variable 'VQAClassifier/dense/kernel:0' shape=(2048, 1024) dtype=float32_ref>\n",
      "<tf.Variable 'module/bert/encoder/layer_2/attention/self/query/kernel:0' shape=(768, 768) dtype=float32>\n",
      "<tf.Variable 'module/cls/predictions/transform/dense/bias:0' shape=(768,) dtype=float32>\n",
      "<tf.Variable 'module/bert/encoder/layer_10/attention/output/dense/bias:0' shape=(768,) dtype=float32>\n",
      "<tf.Variable 'module/bert/encoder/layer_8/output/LayerNorm/gamma:0' shape=(768,) dtype=float32>\n",
      "<tf.Variable 'module/bert/encoder/layer_2/output/LayerNorm/gamma:0' shape=(768,) dtype=float32>\n",
      "<tf.Variable 'module/bert/encoder/layer_3/intermediate/dense/bias:0' shape=(3072,) dtype=float32>\n",
      "<tf.Variable 'module/bert/encoder/layer_8/output/dense/bias:0' shape=(768,) dtype=float32>\n",
      "<tf.Variable 'module/cls/predictions/output_bias:0' shape=(30522,) dtype=float32>\n",
      "<tf.Variable 'module/bert/encoder/layer_2/attention/self/query/bias:0' shape=(768,) dtype=float32>\n",
      "<tf.Variable 'module/bert/encoder/layer_10/intermediate/dense/kernel:0' shape=(768, 3072) dtype=float32>\n",
      "<tf.Variable 'module/bert/encoder/layer_3/attention/output/LayerNorm/beta:0' shape=(768,) dtype=float32>\n",
      "<tf.Variable 'module/bert/encoder/layer_9/attention/output/LayerNorm/beta:0' shape=(768,) dtype=float32>\n",
      "<tf.Variable 'module/bert/encoder/layer_3/output/dense/kernel:0' shape=(3072, 768) dtype=float32>\n",
      "<tf.Variable 'stack_v/v2_postConv/v2_stage_0/conv2d/kernel:0' shape=(3, 3, 2160, 1024) dtype=float32_ref>\n",
      "<tf.Variable 'module/bert/encoder/layer_9/attention/self/query/kernel:0' shape=(768, 768) dtype=float32>\n",
      "<tf.Variable 'module/bert/encoder/layer_2/attention/self/key/kernel:0' shape=(768, 768) dtype=float32>\n",
      "<tf.Variable 'module/bert/encoder/layer_3/attention/output/LayerNorm/gamma:0' shape=(768,) dtype=float32>\n",
      "<tf.Variable 'module/bert/encoder/layer_9/attention/output/LayerNorm/gamma:0' shape=(768,) dtype=float32>\n",
      "<tf.Variable 'module/bert/encoder/layer_10/intermediate/dense/bias:0' shape=(3072,) dtype=float32>\n",
      "<tf.Variable 'module/bert/encoder/layer_3/output/dense/bias:0' shape=(768,) dtype=float32>\n",
      "<tf.Variable 'stack_v/v3_postConv/v3_stage_0/conv2d/bias:0' shape=(1024,) dtype=float32_ref>\n",
      "<tf.Variable 'module/bert/encoder/layer_9/attention/self/query/bias:0' shape=(768,) dtype=float32>\n",
      "<tf.Variable 'module/bert/encoder/layer_9/output/LayerNorm/beta:0' shape=(768,) dtype=float32>\n",
      "<tf.Variable 'module/bert/encoder/layer_3/output/LayerNorm/beta:0' shape=(768,) dtype=float32>\n",
      "<tf.Variable 'VQAClassifier/dense_1/bias:0' shape=(1024,) dtype=float32_ref>\n",
      "<tf.Variable 'module/bert/encoder/layer_2/attention/self/key/bias:0' shape=(768,) dtype=float32>\n",
      "<tf.Variable 'module/bert/encoder/layer_4/attention/self/query/kernel:0' shape=(768, 768) dtype=float32>\n",
      "<tf.Variable 'module/bert/encoder/layer_10/output/dense/kernel:0' shape=(3072, 768) dtype=float32>\n",
      "<tf.Variable 'module/bert/encoder/layer_9/attention/self/key/kernel:0' shape=(768, 768) dtype=float32>\n",
      "<tf.Variable 'module/bert/encoder/layer_3/output/LayerNorm/gamma:0' shape=(768,) dtype=float32>\n",
      "<tf.Variable 'module/bert/encoder/layer_9/output/LayerNorm/gamma:0' shape=(768,) dtype=float32>\n",
      "<tf.Variable 'module/bert/encoder/layer_2/attention/self/value/kernel:0' shape=(768, 768) dtype=float32>\n",
      "<tf.Variable 'module/bert/encoder/layer_10/output/dense/bias:0' shape=(768,) dtype=float32>\n",
      "<tf.Variable 'module/bert/encoder/layer_4/attention/self/query/bias:0' shape=(768,) dtype=float32>\n",
      "<tf.Variable 'stack_v/v3_postConv/v3_stage_0/conv2d/kernel:0' shape=(3, 3, 4320, 1024) dtype=float32_ref>\n",
      "<tf.Variable 'module/bert/encoder/layer_4/attention/output/LayerNorm/beta:0' shape=(768,) dtype=float32>\n",
      "<tf.Variable 'module/bert/encoder/layer_10/attention/output/LayerNorm/beta:0' shape=(768,) dtype=float32>\n",
      "<tf.Variable 'module/bert/encoder/layer_9/attention/self/key/bias:0' shape=(768,) dtype=float32>\n",
      "<tf.Variable 'module/bert/encoder/layer_2/attention/self/value/bias:0' shape=(768,) dtype=float32>\n",
      "<tf.Variable 'module/bert/encoder/layer_11/attention/self/query/kernel:0' shape=(768, 768) dtype=float32>\n",
      "<tf.Variable 'module/bert/encoder/layer_4/attention/self/key/kernel:0' shape=(768, 768) dtype=float32>\n",
      "<tf.Variable 'stack_v/v4_postConv/v4_stage_0/conv2d/bias:0' shape=(1024,) dtype=float32_ref>\n",
      "<tf.Variable 'module/bert/encoder/layer_4/attention/output/LayerNorm/gamma:0' shape=(768,) dtype=float32>\n",
      "<tf.Variable 'module/bert/encoder/layer_10/attention/output/LayerNorm/gamma:0' shape=(768,) dtype=float32>\n",
      "<tf.Variable 'module/bert/encoder/layer_9/attention/self/value/kernel:0' shape=(768, 768) dtype=float32>\n",
      "<tf.Variable 'module/bert/encoder/layer_2/attention/output/dense/kernel:0' shape=(768, 768) dtype=float32>\n",
      "<tf.Variable 'module/bert/encoder/layer_11/attention/self/query/bias:0' shape=(768,) dtype=float32>\n",
      "<tf.Variable 'module/bert/encoder/layer_4/output/LayerNorm/beta:0' shape=(768,) dtype=float32>\n",
      "<tf.Variable 'module/bert/encoder/layer_10/output/LayerNorm/beta:0' shape=(768,) dtype=float32>\n",
      "<tf.Variable 'module/bert/encoder/layer_4/attention/self/key/bias:0' shape=(768,) dtype=float32>\n",
      "<tf.Variable 'module/bert/encoder/layer_9/attention/self/value/bias:0' shape=(768,) dtype=float32>\n",
      "<tf.Variable 'module/bert/encoder/layer_2/attention/output/dense/bias:0' shape=(768,) dtype=float32>\n",
      "<tf.Variable 'module/bert/encoder/layer_11/attention/self/key/kernel:0' shape=(768, 768) dtype=float32>\n",
      "<tf.Variable 'module/bert/encoder/layer_4/output/LayerNorm/gamma:0' shape=(768,) dtype=float32>\n",
      "<tf.Variable 'module/bert/encoder/layer_10/output/LayerNorm/gamma:0' shape=(768,) dtype=float32>\n",
      "<tf.Variable 'module/bert/encoder/layer_4/attention/self/value/kernel:0' shape=(768, 768) dtype=float32>\n",
      "<tf.Variable 'module/bert/encoder/layer_9/attention/output/dense/kernel:0' shape=(768, 768) dtype=float32>\n",
      "<tf.Variable 'stack_v/v4_postConv/v4_stage_0/conv2d/kernel:0' shape=(3, 3, 4320, 1024) dtype=float32_ref>\n",
      "<tf.Variable 'VQAClassifier/dense_3/bias:0' shape=(1024,) dtype=float32_ref>\n",
      "<tf.Variable 'module/bert/encoder/layer_2/intermediate/dense/kernel:0' shape=(768, 3072) dtype=float32>\n",
      "<tf.Variable 'VQAClassifier/dense_1/kernel:0' shape=(1024, 1024) dtype=float32_ref>\n",
      "<tf.Variable 'module/bert/encoder/layer_11/attention/output/LayerNorm/beta:0' shape=(768,) dtype=float32>\n",
      "<tf.Variable 'module/bert/encoder/layer_5/attention/output/LayerNorm/beta:0' shape=(768,) dtype=float32>\n",
      "<tf.Variable 'module/bert/encoder/layer_11/attention/self/key/bias:0' shape=(768,) dtype=float32>\n",
      "<tf.Variable 'module/bert/encoder/layer_4/attention/self/value/bias:0' shape=(768,) dtype=float32>\n",
      "<tf.Variable 'module/bert/encoder/layer_9/attention/output/dense/bias:0' shape=(768,) dtype=float32>\n",
      "<tf.Variable 'module/bert/encoder/layer_5/attention/output/LayerNorm/gamma:0' shape=(768,) dtype=float32>\n",
      "<tf.Variable 'module/bert/encoder/layer_11/attention/output/LayerNorm/gamma:0' shape=(768,) dtype=float32>\n",
      "<tf.Variable 'VQAClassifier/dense_3/kernel:0' shape=(1024, 1024) dtype=float32_ref>\n",
      "<tf.Variable 'module/bert/encoder/layer_4/attention/output/dense/kernel:0' shape=(768, 768) dtype=float32>\n",
      "<tf.Variable 'module/bert/encoder/layer_2/intermediate/dense/bias:0' shape=(3072,) dtype=float32>\n",
      "<tf.Variable 'module/bert/encoder/layer_11/attention/self/value/kernel:0' shape=(768, 768) dtype=float32>\n",
      "<tf.Variable 'module/bert/encoder/layer_9/intermediate/dense/kernel:0' shape=(768, 3072) dtype=float32>\n",
      "<tf.Variable 'module/bert/encoder/layer_5/output/LayerNorm/beta:0' shape=(768,) dtype=float32>\n",
      "<tf.Variable 'module/bert/encoder/layer_11/output/LayerNorm/beta:0' shape=(768,) dtype=float32>\n",
      "<tf.Variable 'module/bert/encoder/layer_2/output/dense/kernel:0' shape=(3072, 768) dtype=float32>\n",
      "<tf.Variable 'module/bert/encoder/layer_11/attention/self/value/bias:0' shape=(768,) dtype=float32>\n",
      "<tf.Variable 'module/bert/encoder/layer_4/attention/output/dense/bias:0' shape=(768,) dtype=float32>\n",
      "<tf.Variable 'module/bert/encoder/layer_2/attention/output/LayerNorm/gamma:0' shape=(768,) dtype=float32>\n",
      "<tf.Variable 'module/bert/encoder/layer_5/output/LayerNorm/gamma:0' shape=(768,) dtype=float32>\n",
      "<tf.Variable 'module/bert/encoder/layer_11/output/LayerNorm/gamma:0' shape=(768,) dtype=float32>\n",
      "<tf.Variable 'module/bert/encoder/layer_9/intermediate/dense/bias:0' shape=(3072,) dtype=float32>\n",
      "<tf.Variable 'module/bert/encoder/layer_2/output/dense/bias:0' shape=(768,) dtype=float32>\n",
      "<tf.Variable 'module/bert/encoder/layer_11/attention/output/dense/kernel:0' shape=(768, 768) dtype=float32>\n",
      "<tf.Variable 'module/bert/embeddings/LayerNorm/gamma:0' shape=(768,) dtype=float32>\n",
      "<tf.Variable 'module/bert/encoder/layer_4/intermediate/dense/kernel:0' shape=(768, 3072) dtype=float32>\n",
      "<tf.Variable 'module/bert/encoder/layer_6/attention/output/LayerNorm/beta:0' shape=(768,) dtype=float32>\n",
      "<tf.Variable 'module/cls/predictions/transform/LayerNorm/beta:0' shape=(768,) dtype=float32>\n",
      "<tf.Variable 'module/bert/encoder/layer_9/output/dense/kernel:0' shape=(3072, 768) dtype=float32>\n",
      "<tf.Variable 'module/bert/encoder/layer_0/attention/output/LayerNorm/beta:0' shape=(768,) dtype=float32>\n",
      "<tf.Variable 'module/bert/encoder/layer_3/attention/self/query/kernel:0' shape=(768, 768) dtype=float32>\n",
      "<tf.Variable 'module/bert/encoder/layer_11/attention/output/dense/bias:0' shape=(768,) dtype=float32>\n",
      "<tf.Variable 'module/bert/encoder/layer_6/attention/output/LayerNorm/gamma:0' shape=(768,) dtype=float32>\n",
      "<tf.Variable 'module/cls/predictions/transform/LayerNorm/gamma:0' shape=(768,) dtype=float32>\n",
      "<tf.Variable 'module/bert/encoder/layer_4/intermediate/dense/bias:0' shape=(3072,) dtype=float32>\n",
      "<tf.Variable 'module/bert/encoder/layer_9/output/dense/bias:0' shape=(768,) dtype=float32>\n",
      "<tf.Variable 'module/bert/encoder/layer_0/attention/output/LayerNorm/gamma:0' shape=(768,) dtype=float32>\n",
      "<tf.Variable 'module/bert/encoder/layer_3/attention/self/query/bias:0' shape=(768,) dtype=float32>\n",
      "<tf.Variable 'module/bert/encoder/layer_11/intermediate/dense/kernel:0' shape=(768, 3072) dtype=float32>\n",
      "<tf.Variable 'module/bert/encoder/layer_6/output/LayerNorm/beta:0' shape=(768,) dtype=float32>\n",
      "<tf.Variable 'module/bert/encoder/layer_4/output/dense/kernel:0' shape=(3072, 768) dtype=float32>\n",
      "<tf.Variable 'module/bert/encoder/layer_0/output/LayerNorm/beta:0' shape=(768,) dtype=float32>\n",
      "<tf.Variable 'module/bert/encoder/layer_0/attention/self/key/kernel:0' shape=(768, 768) dtype=float32>\n",
      "<tf.Variable 'module/bert/encoder/layer_10/attention/self/query/kernel:0' shape=(768, 768) dtype=float32>\n",
      "<tf.Variable 'module/bert/encoder/layer_3/attention/self/key/kernel:0' shape=(768, 768) dtype=float32>\n",
      "<tf.Variable 'module/bert/encoder/layer_6/output/LayerNorm/gamma:0' shape=(768,) dtype=float32>\n",
      "<tf.Variable 'module/bert/encoder/layer_11/intermediate/dense/bias:0' shape=(3072,) dtype=float32>\n",
      "<tf.Variable 'module/bert/encoder/layer_0/output/LayerNorm/gamma:0' shape=(768,) dtype=float32>\n",
      "<tf.Variable 'module/bert/encoder/layer_4/output/dense/bias:0' shape=(768,) dtype=float32>\n",
      "<tf.Variable 'module/bert/embeddings/token_type_embeddings:0' shape=(2, 768) dtype=float32>\n",
      "<tf.Variable 'module/bert/encoder/layer_10/attention/self/query/bias:0' shape=(768,) dtype=float32>\n",
      "<tf.Variable 'module/bert/encoder/layer_7/attention/output/LayerNorm/beta:0' shape=(768,) dtype=float32>\n",
      "<tf.Variable 'module/bert/encoder/layer_3/attention/self/key/bias:0' shape=(768,) dtype=float32>\n",
      "<tf.Variable 'module/bert/encoder/layer_11/output/dense/kernel:0' shape=(3072, 768) dtype=float32>\n",
      "<tf.Variable 'module/bert/encoder/layer_1/attention/output/LayerNorm/beta:0' shape=(768,) dtype=float32>\n",
      "<tf.Variable 'module/bert/encoder/layer_5/attention/self/query/kernel:0' shape=(768, 768) dtype=float32>\n",
      "<tf.Variable 'module/bert/encoder/layer_10/attention/self/key/kernel:0' shape=(768, 768) dtype=float32>\n",
      "<tf.Variable 'module/bert/embeddings/position_embeddings:0' shape=(512, 768) dtype=float32>\n",
      "<tf.Variable 'module/bert/encoder/layer_7/attention/output/LayerNorm/gamma:0' shape=(768,) dtype=float32>\n",
      "<tf.Variable 'module/bert/encoder/layer_3/attention/self/value/kernel:0' shape=(768, 768) dtype=float32>\n",
      "<tf.Variable 'module/bert/encoder/layer_11/output/dense/bias:0' shape=(768,) dtype=float32>\n",
      "<tf.Variable 'module/bert/encoder/layer_1/attention/output/LayerNorm/gamma:0' shape=(768,) dtype=float32>\n",
      "<tf.Variable 'module/bert/encoder/layer_2/attention/output/LayerNorm/beta:0' shape=(768,) dtype=float32>\n",
      "<tf.Variable 'module/bert/encoder/layer_5/attention/self/query/bias:0' shape=(768,) dtype=float32>\n",
      "<tf.Variable 'module/bert/encoder/layer_7/output/LayerNorm/beta:0' shape=(768,) dtype=float32>\n",
      "<tf.Variable 'module/bert/encoder/layer_10/attention/self/key/bias:0' shape=(768,) dtype=float32>\n",
      "<tf.Variable 'module/bert/encoder/layer_1/output/LayerNorm/beta:0' shape=(768,) dtype=float32>\n",
      "<tf.Variable 'module/bert/encoder/layer_0/attention/self/query/kernel:0' shape=(768, 768) dtype=float32>\n",
      "<tf.Variable 'module/bert/encoder/layer_3/attention/self/value/bias:0' shape=(768,) dtype=float32>\n",
      "<tf.Variable 'module/bert/pooler/dense/kernel:0' shape=(768, 768) dtype=float32>\n",
      "<tf.Variable 'module/bert/encoder/layer_5/attention/self/key/kernel:0' shape=(768, 768) dtype=float32>\n",
      "<tf.Variable 'module/bert/encoder/layer_7/output/LayerNorm/gamma:0' shape=(768,) dtype=float32>\n",
      "<tf.Variable 'module/bert/encoder/layer_10/attention/self/value/kernel:0' shape=(768, 768) dtype=float32>\n",
      "<tf.Variable 'module/bert/encoder/layer_1/output/LayerNorm/gamma:0' shape=(768,) dtype=float32>\n",
      "<tf.Variable 'module/bert/encoder/layer_3/attention/output/dense/kernel:0' shape=(768, 768) dtype=float32>\n",
      "<tf.Variable 'module/bert/encoder/layer_0/attention/self/query/bias:0' shape=(768,) dtype=float32>\n",
      "<tf.Variable 'module/bert/pooler/dense/bias:0' shape=(768,) dtype=float32>\n",
      "<tf.Variable 'module/bert/encoder/layer_8/attention/output/LayerNorm/beta:0' shape=(768,) dtype=float32>\n",
      "<tf.Variable 'module/bert/encoder/layer_10/attention/self/value/bias:0' shape=(768,) dtype=float32>\n"
     ]
    }
   ],
   "source": [
    "for x in train_vars:\n",
    "    print(x)"
   ]
  },
  {
   "cell_type": "code",
   "execution_count": 52,
   "metadata": {},
   "outputs": [
    {
     "name": "stdout",
     "output_type": "stream",
     "text": [
      "VQA_MainFile_LSTM_learnable_fuse-3moredense_epoch15-PNASNet1bert_finetune\n"
     ]
    },
    {
     "data": {
      "text/plain": [
       "0.0001"
      ]
     },
     "execution_count": 52,
     "metadata": {},
     "output_type": "execute_result"
    }
   ],
   "source": [
    "print(condition)\n",
    "lr_value_0"
   ]
  },
  {
   "cell_type": "code",
   "execution_count": 53,
   "metadata": {},
   "outputs": [
    {
     "name": "stdout",
     "output_type": "stream",
     "text": [
      "Start training...\n",
      "\n",
      "\n",
      "=====Epoch: 20\n",
      "===Train\n",
      "Sample 123232/123264, train_loss:0.0022 \r"
     ]
    },
    {
     "ename": "IndexError",
     "evalue": "index 20 is out of bounds for axis 0 with size 20",
     "output_type": "error",
     "traceback": [
      "\u001b[0;31m---------------------------------------------------------------------------\u001b[0m",
      "\u001b[0;31mIndexError\u001b[0m                                Traceback (most recent call last)",
      "\u001b[0;32m<ipython-input-53-2074701849f8>\u001b[0m in \u001b[0;36m<module>\u001b[0;34m()\u001b[0m\n\u001b[1;32m     35\u001b[0m \u001b[0;34m\u001b[0m\u001b[0m\n\u001b[1;32m     36\u001b[0m     \u001b[0;31m#train_loss[e] = avg_loss/float(n_iter_per_epoch+1)\u001b[0m\u001b[0;34m\u001b[0m\u001b[0;34m\u001b[0m\u001b[0m\n\u001b[0;32m---> 37\u001b[0;31m     \u001b[0mtrain_loss\u001b[0m\u001b[0;34m[\u001b[0m\u001b[0me\u001b[0m\u001b[0;34m]\u001b[0m \u001b[0;34m=\u001b[0m \u001b[0mavg_loss\u001b[0m\u001b[0;34m/\u001b[0m\u001b[0mfloat\u001b[0m\u001b[0;34m(\u001b[0m\u001b[0mn_iter_per_epoch\u001b[0m\u001b[0;34m+\u001b[0m\u001b[0;36m1\u001b[0m\u001b[0;34m)\u001b[0m\u001b[0;34m\u001b[0m\u001b[0m\n\u001b[0m\u001b[1;32m     38\u001b[0m \u001b[0;34m\u001b[0m\u001b[0m\n\u001b[1;32m     39\u001b[0m \u001b[0mprint\u001b[0m\u001b[0;34m(\u001b[0m\u001b[0;34m'\\n\\nTraining done.'\u001b[0m\u001b[0;34m)\u001b[0m\u001b[0;34m\u001b[0m\u001b[0m\n",
      "\u001b[0;31mIndexError\u001b[0m: index 20 is out of bounds for axis 0 with size 20"
     ]
    }
   ],
   "source": [
    "#loop on training data\n",
    "print('Start training...')\n",
    "max_class_acc = 0\n",
    "val_acc = np.zeros((n_epochs,))\n",
    "train_loss = np.zeros((n_epochs,))\n",
    "#bert_embedding = BertEmbedding()\n",
    "\n",
    "for e in range(n_epochs,30):\n",
    "    print('\\n\\n=====Epoch: %d'%e)\n",
    "    avg_loss = 0\n",
    "#     if e < 9:\n",
    "#         lr_value = lr_value_0\n",
    "#     elif 9 <= e < 14:\n",
    "#         lr_value = lr_value_0 / 2.0\n",
    "#     elif e >= 14:\n",
    "#         lr_value = lr_value_0 / 4.0\n",
    "        \n",
    "    print('===Train')\n",
    "    for i in range(n_iter_per_epoch):\n",
    "        img_batch, cap_batch, ans_batch = batch_gen(valid_ids_train, dict_train, train_images,n_batch)\n",
    "        input_ids_bert,input_mask_bert,segment_ids_bert =  preprocessbertinputs(cap_batch, tokenizer)\n",
    "        #sen_emb_batch = bert_sentenceembedding(cap_batch,bert_embedding)\n",
    "        #feed_dict = {input_img: img_batch, text_batch: sen_emb_batch, answer_batch: ans_batch, mode: 'train', lr: lr_value}\n",
    "        feed_dict = {input_img: img_batch, input_ids:input_ids_bert,input_mask:input_mask_bert,segment_ids:segment_ids_bert, answer_batch: ans_batch, mode: 'train', lr: lr_value}\n",
    "        loss_val, _ = sess.run([loss, train_op], feed_dict)\n",
    "        avg_loss += loss_val\n",
    "        var = [i * n_batch, n_iter_per_epoch * n_batch, avg_loss / float(i + 1)]\n",
    "        prnt = 'Sample {}/{}, train_loss:{:.4f} \\r'.format(var[0], var[1], var[2])\n",
    "        sys.stdout.write(prnt)\n",
    "        sys.stdout.flush()\n",
    "        \n",
    "    if e == 15:\n",
    "        print('Saving model...')\n",
    "        global_saver.save(sess, '../saved_models/model_' + condition + \"15\")\n",
    "            \n",
    "    #train_loss[e] = avg_loss/float(n_iter_per_epoch+1)\n",
    "    train_loss[e] = avg_loss/float(n_iter_per_epoch+1)  \n",
    "        \n",
    "print('\\n\\nTraining done.')\n",
    "#saving the session\n",
    "print('Saving model...')\n",
    "global_saver.save(sess, '../saved_models/model_' + condition + \"20\")\n",
    "with open('./logs/loss_' + condition + '.pickle', 'wb') as f:\n",
    "    pickle.dump({'train_loss':train_loss,\n",
    "                 'class_acc':val_acc},\n",
    "                f, protocol = pickle.HIGHEST_PROTOCOL)\n",
    "print('Saving done.')\n",
    "     \n",
    "    \n",
    "plt.figure()\n",
    "plt.plot(train_loss, label='Train loss '+ condition)\n",
    "plt.legend()\n",
    "plt.show()\n",
    "plt.figure()\n",
    "plt.plot(100. * val_acc, label='Validation classification_acc '+ condition)\n",
    "plt.legend()\n",
    "plt.show()"
   ]
  },
  {
   "cell_type": "code",
   "execution_count": 39,
   "metadata": {},
   "outputs": [
    {
     "data": {
      "image/png": "[encoded data removed]",
      "text/plain": [
       "<matplotlib.figure.Figure at 0x7ff2bc95f3c8>"
      ]
     },
     "metadata": {},
     "output_type": "display_data"
    },
    {
     "data": {
      "image/png": "[encoded data removed]",
      "text/plain": [
       "<matplotlib.figure.Figure at 0x7fb839f33da0>"
      ]
     },
     "metadata": {},
     "output_type": "display_data"
    }
   ],
   "source": [
    "plt.figure()\n",
    "plt.plot(train_loss, label='Train loss '+ condition)\n",
    "plt.legend()\n",
    "plt.show()\n",
    "plt.figure()\n",
    "plt.plot(100. * val_acc, label='Validation classification_acc '+ condition)\n",
    "plt.legend()\n",
    "plt.show()"
   ]
  },
  {
   "cell_type": "code",
   "execution_count": 40,
   "metadata": {},
   "outputs": [
    {
     "name": "stdout",
     "output_type": "stream",
     "text": [
      "VQA_MainFile_LSTM_learnable_fuse-3moredense_epoch15-PNASNet1bert_finetune\n",
      "20\n",
      "19\n"
     ]
    }
   ],
   "source": [
    "print(condition)\n",
    "print(n_epochs)\n",
    "print(e)"
   ]
  },
  {
   "cell_type": "markdown",
   "metadata": {},
   "source": [
    "# Loading Model for Testing"
   ]
  },
  {
   "cell_type": "code",
   "execution_count": null,
   "metadata": {
    "collapsed": true
   },
   "outputs": [],
   "source": [
    "print('test')"
   ]
  },
  {
   "cell_type": "code",
   "execution_count": null,
   "metadata": {
    "collapsed": true
   },
   "outputs": [],
   "source": [
    "try:\n",
    "    sess.close()\n",
    "except NameError:\n",
    "    print(\"Definining session for the first time\")\n",
    "#tf.reset_default_graph()"
   ]
  },
  {
   "cell_type": "code",
   "execution_count": null,
   "metadata": {
    "collapsed": true
   },
   "outputs": [],
   "source": [
    "# Deleting Variables to Free Space\n",
    "del train_images, val_images"
   ]
  },
  {
   "cell_type": "code",
   "execution_count": null,
   "metadata": {
    "collapsed": true
   },
   "outputs": [],
   "source": [
    "condition = 'VQA_MainFile_LSTM_learnable_fuse-3moredense_epoch15-PNASNet115'\n",
    "print('Loading grounding pretrained model...')\n",
    "model_path = '../saved_models/model_'+ condition\n",
    "print(model_path)\n",
    "sess, graph = load_model(model_path,config)\n",
    "print('Model Loaded')"
   ]
  },
  {
   "cell_type": "code",
   "execution_count": null,
   "metadata": {
    "collapsed": true
   },
   "outputs": [],
   "source": [
    "input_img = sess.graph.get_tensor_by_name(\"input_img:0\")\n",
    "text_batch = sess.graph.get_tensor_by_name(\"text_input:0\")\n",
    "mode = sess.graph.get_tensor_by_name(\"mode:0\")\n",
    "fusion = sess.graph.get_tensor_by_name(\"VQAClassifier/fusion:0\")"
   ]
  },
  {
   "cell_type": "markdown",
   "metadata": {},
   "source": [
    "# Testing"
   ]
  },
  {
   "cell_type": "code",
   "execution_count": 41,
   "metadata": {},
   "outputs": [
    {
     "name": "stdout",
     "output_type": "stream",
     "text": [
      "Processed:  0  images\n",
      "Processed:  3000  images\n",
      "Processed:  6000  images\n",
      "Processed:  9000  images\n",
      "Processed:  12000  images\n",
      "Processed:  15000  images\n",
      "Processed:  18000  images\n",
      "Processed:  21000  images\n",
      "Processed:  24000  images\n",
      "Processed:  27000  images\n",
      "Processed:  30000  images\n",
      "Processed:  33000  images\n",
      "Processed:  36000  images\n",
      "Processed:  39000  images\n",
      "Processed:  42000  images\n",
      "Processed:  45000  images\n",
      "Processed:  48000  images\n",
      "Processed:  51000  images\n",
      "Processed:  54000  images\n",
      "Processed:  57000  images\n",
      "Processed:  60000  images\n",
      "Processed:  63000  images\n",
      "Processed:  66000  images\n",
      "Processed:  69000  images\n",
      "Processed:  72000  images\n",
      "Processed:  75000  images\n",
      "Processed:  78000  images\n",
      "Processed:  81000  images\n",
      "Done pre-processing images\n",
      "Done pre-processing test images\n"
     ]
    }
   ],
   "source": [
    "# Preprocessing Testing Images\n",
    "valid_ids_test, test_images = preprocess_images(ids_test, txn_test, txn)\n",
    "print('Done pre-processing test images')"
   ]
  },
  {
   "cell_type": "code",
   "execution_count": 42,
   "metadata": {},
   "outputs": [
    {
     "data": {
      "text/plain": [
       "[{262144000: {'question': 'is the ball flying towards the batter ?'}},\n",
       " {262144001: {'question': 'what sport is this ?'}},\n",
       " {262144002: {'question': 'can you see the ball ?'}},\n",
       " {262144003: {'question': 'is the pitcher wearing a hat ?'}},\n",
       " {262144004: {'question': 'will he catch the ball in time ?'}},\n",
       " {262144005: {'question': 'what credit card company is on the banner in the background ?'}}]"
      ]
     },
     "execution_count": 42,
     "metadata": {},
     "output_type": "execute_result"
    }
   ],
   "source": [
    "#print(list(dict_test.keys()))\n",
    "dict_test['262144']"
   ]
  },
  {
   "cell_type": "code",
   "execution_count": 43,
   "metadata": {
    "collapsed": true
   },
   "outputs": [],
   "source": [
    "#Generating All Questions in Answer Batch\n",
    "final_test_list = []\n",
    "for k, doc_id in enumerate(dict_test):\n",
    "    image_id = doc_id\n",
    "    #print(doc_id)\n",
    "    for annot in dict_test[doc_id]:\n",
    "        question_id = list(annot.keys())[0]\n",
    "        #print(annot[question_id])\n",
    "        question = annot[question_id]['question']\n",
    "        ques = Question(question_id ,image_id, question)\n",
    "        final_test_list.append(ques)"
   ]
  },
  {
   "cell_type": "code",
   "execution_count": 44,
   "metadata": {},
   "outputs": [
    {
     "data": {
      "text/plain": [
       "447793"
      ]
     },
     "execution_count": 44,
     "metadata": {},
     "output_type": "execute_result"
    }
   ],
   "source": [
    "len(final_test_list)\n",
    "#final_test_list[0].question_id"
   ]
  },
  {
   "cell_type": "code",
   "execution_count": 45,
   "metadata": {
    "collapsed": true
   },
   "outputs": [],
   "source": [
    "def generate_batches(questions_list, batch_size):\n",
    "    n = len(questions_list)\n",
    "    \n",
    "    questions_batch = []\n",
    "    for i, ques in enumerate(questions_list):\n",
    "        questions_batch.append(ques)\n",
    "        if ((i + 1) % batch_size == 0) or ((i + 1) == n):\n",
    "            yield questions_batch\n",
    "            questions_batch = []"
   ]
  },
  {
   "cell_type": "code",
   "execution_count": 46,
   "metadata": {
    "collapsed": true
   },
   "outputs": [],
   "source": [
    "def validate_test(final_test_list, test_images, idx2ans, batch_size):\n",
    "    results = list()\n",
    "    print(\"----started\")\n",
    "\n",
    "    l = 0\n",
    "    for question_batch in generate_batches(final_test_list, batch_size):\n",
    "        num_questions = len(question_batch)\n",
    "        img_batch = np.empty((num_questions, 299, 299, 3))\n",
    "        ques_batch = []\n",
    "        ques_ids_batch = []\n",
    "        \n",
    "        for j, ques in enumerate(question_batch):\n",
    "            image_id = ques.image_id\n",
    "            question_id = ques.question_id\n",
    "            question = ques.question\n",
    "\n",
    "            img = np.reshape(test_images[image_id], (299, 299, 3))\n",
    "            img_batch[j,:] = img\n",
    "            ques_batch.append(question)\n",
    "            ques_ids_batch.append(question_id)\n",
    "        \n",
    "        input_ids_test,input_mask_test,segment_ids_test =  preprocessbertinputs(ques_batch, tokenizer)\n",
    "        feed_dict = {input_img: img_batch, input_ids:input_ids_test,input_mask:input_mask_test,segment_ids:segment_ids_test, mode:\"test\"}\n",
    "        #feed_dict = {input_img: img_batch, text_batch: ques_batch, mode:\"test\"}\n",
    "        pred = sess.run(fusion, feed_dict)\n",
    "        idx = np.argmax(pred, axis=1)\n",
    "        for k, each_idx in enumerate(idx):\n",
    "            results.append({\"question_id\": ques_ids_batch[k], \"answer\": idx2ans[each_idx]}) \n",
    "        l += 1\n",
    "        if l % 100 == 0:\n",
    "            print(\"Number of batches done: \", l, \"; num_results: \", str(len(results)))\n",
    "    return results"
   ]
  },
  {
   "cell_type": "code",
   "execution_count": null,
   "metadata": {},
   "outputs": [
    {
     "name": "stdout",
     "output_type": "stream",
     "text": [
      "----started\n",
      "Number of batches done:  100 ; num_results:  6400\n",
      "Number of batches done:  200 ; num_results:  12800\n",
      "Number of batches done:  300 ; num_results:  19200\n",
      "Number of batches done:  400 ; num_results:  25600\n",
      "Number of batches done:  500 ; num_results:  32000\n",
      "Number of batches done:  600 ; num_results:  38400\n",
      "Number of batches done:  700 ; num_results:  44800\n",
      "Number of batches done:  800 ; num_results:  51200\n",
      "Number of batches done:  900 ; num_results:  57600\n",
      "Number of batches done:  1000 ; num_results:  64000\n",
      "Number of batches done:  1100 ; num_results:  70400\n",
      "Number of batches done:  1200 ; num_results:  76800\n",
      "Number of batches done:  1300 ; num_results:  83200\n",
      "Number of batches done:  3200 ; num_results:  204800\n",
      "Number of batches done:  3300 ; num_results:  211200\n",
      "Number of batches done:  3400 ; num_results:  217600\n",
      "Number of batches done:  3500 ; num_results:  224000\n",
      "Number of batches done:  3600 ; num_results:  230400\n",
      "Number of batches done:  3700 ; num_results:  236800\n"
     ]
    }
   ],
   "source": [
    "results = validate_test(final_test_list, test_images, idx2ans, batch_size=64)"
   ]
  },
  {
   "cell_type": "code",
   "execution_count": 48,
   "metadata": {},
   "outputs": [
    {
     "name": "stdout",
     "output_type": "stream",
     "text": [
      "447793\n"
     ]
    }
   ],
   "source": [
    "print(len(results))"
   ]
  },
  {
   "cell_type": "code",
   "execution_count": null,
   "metadata": {
    "collapsed": true
   },
   "outputs": [],
   "source": [
    "#writing results to disk\n",
    "import pickle\n",
    "f = open('model_'+ condition +'_results.pkl', \"wb\")\n",
    "pickle.dump(results, f)\n",
    "f.close()"
   ]
  },
  {
   "cell_type": "code",
   "execution_count": 49,
   "metadata": {
    "collapsed": true
   },
   "outputs": [],
   "source": [
    "#Saving as json file to fetch to server\n",
    "import json \n",
    "with open('model_'+ condition + '20_results.json', 'w') as fp:\n",
    "    json.dump(results, fp)"
   ]
  },
  {
   "cell_type": "code",
   "execution_count": 50,
   "metadata": {},
   "outputs": [
    {
     "name": "stdout",
     "output_type": "stream",
     "text": [
      "VQA_MainFile_LSTM_learnable_fuse-3moredense_epoch15-PNASNet1bert_finetune\n"
     ]
    }
   ],
   "source": [
    "print(condition)"
   ]
  },
  {
   "cell_type": "code",
   "execution_count": null,
   "metadata": {
    "collapsed": true
   },
   "outputs": [],
   "source": [
    "print(len(results))"
   ]
  },
  {
   "cell_type": "markdown",
   "metadata": {},
   "source": [
    "# Result Analysis"
   ]
  },
  {
   "cell_type": "code",
   "execution_count": null,
   "metadata": {
    "collapsed": true
   },
   "outputs": [],
   "source": [
    "import pickle\n",
    "with open('./logs/loss_VQA_MainFile_Pretrained1.pickle', 'rb') as f:\n",
    "    p = pickle.load(f)"
   ]
  },
  {
   "cell_type": "code",
   "execution_count": null,
   "metadata": {
    "collapsed": true
   },
   "outputs": [],
   "source": [
    "p"
   ]
  },
  {
   "cell_type": "code",
   "execution_count": null,
   "metadata": {
    "collapsed": true
   },
   "outputs": [],
   "source": []
  }
 ],
 "metadata": {
  "kernelspec": {
   "display_name": "Python 3",
   "language": "python",
   "name": "python3"
  },
  "language_info": {
   "codemirror_mode": {
    "name": "ipython",
    "version": 3
   },
   "file_extension": ".py",
   "mimetype": "text/x-python",
   "name": "python",
   "nbconvert_exporter": "python",
   "pygments_lexer": "ipython3",
   "version": "3.6.1"
  }
 },
 "nbformat": 4,
 "nbformat_minor": 2
}
